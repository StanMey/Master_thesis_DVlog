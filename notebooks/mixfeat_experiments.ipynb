{
 "cells": [
  {
   "cell_type": "markdown",
   "id": "ac891d1b-65af-48f5-9c72-9e4a06346f1a",
   "metadata": {},
   "source": []
  },
  {
   "cell_type": "code",
   "execution_count": 2,
   "id": "3ae84140-b1d2-4b35-8931-42ed84a4d159",
   "metadata": {},
   "outputs": [],
   "source": [
    "import pandas as pd\n",
    "\n",
    "from sklearn import svm\n",
    "from pathlib import Path"
   ]
  },
  {
   "cell_type": "code",
   "execution_count": null,
   "id": "5be7c47a-a1b5-4dc1-b40f-5762717b53d5",
   "metadata": {},
   "outputs": [],
   "source": []
  },
  {
   "cell_type": "code",
   "execution_count": null,
   "id": "be37868a-0844-4ab3-a602-952538cdc246",
   "metadata": {},
   "outputs": [],
   "source": [
    "annotations_file = Path(r\"../DVlog/dataset/dvlog_labels_v2.csv\")\n",
    "embeddings_path = Path(\"../DVlog/dataset/sent-embeddings-dataset\")\n"
   ]
  },
  {
   "cell_type": "code",
   "execution_count": 3,
   "id": "deee4490-f4a2-4a48-a727-46a565976d6d",
   "metadata": {},
   "outputs": [
    {
     "ename": "NameError",
     "evalue": "name 'annotations_file' is not defined",
     "output_type": "error",
     "traceback": [
      "\u001b[1;31m---------------------------------------------------------------------------\u001b[0m",
      "\u001b[1;31mNameError\u001b[0m                                 Traceback (most recent call last)",
      "Cell \u001b[1;32mIn[3], line 2\u001b[0m\n\u001b[0;32m      1\u001b[0m \u001b[38;5;66;03m# load in the annotation labels\u001b[39;00m\n\u001b[1;32m----> 2\u001b[0m df_annotations \u001b[38;5;241m=\u001b[39m pd\u001b[38;5;241m.\u001b[39mread_csv(annotations_file)\n",
      "\u001b[1;31mNameError\u001b[0m: name 'annotations_file' is not defined"
     ]
    }
   ],
   "source": [
    "# load in the annotation labels\n",
    "df_annotations = pd.read_csv(annotations_file)"
   ]
  },
  {
   "cell_type": "code",
   "execution_count": null,
   "id": "b2269ed5-cb8d-4166-9fe6-a009ded76988",
   "metadata": {},
   "outputs": [],
   "source": []
  },
  {
   "cell_type": "code",
   "execution_count": null,
   "id": "2ef9cfab-45ed-47ab-88d0-907f22788260",
   "metadata": {},
   "outputs": [],
   "source": []
  },
  {
   "cell_type": "code",
   "execution_count": null,
   "id": "c4b25971-13d5-49e1-bd5f-996372df00b6",
   "metadata": {},
   "outputs": [],
   "source": []
  }
 ],
 "metadata": {
  "kernelspec": {
   "display_name": "Python 3 (ipykernel)",
   "language": "python",
   "name": "python3"
  },
  "language_info": {
   "codemirror_mode": {
    "name": "ipython",
    "version": 3
   },
   "file_extension": ".py",
   "mimetype": "text/x-python",
   "name": "python",
   "nbconvert_exporter": "python",
   "pygments_lexer": "ipython3",
   "version": "3.11.7"
  }
 },
 "nbformat": 4,
 "nbformat_minor": 5
}
