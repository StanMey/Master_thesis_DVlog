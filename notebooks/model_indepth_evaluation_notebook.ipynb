{
 "cells": [
  {
   "cell_type": "markdown",
   "id": "cdc3cdaa-654e-4630-ad2a-698eb928faa4",
   "metadata": {},
   "source": [
    "# Model evaluation"
   ]
  },
  {
   "cell_type": "markdown",
   "id": "b083be78-3cb7-4d2a-ba14-bdf835e11c4a",
   "metadata": {},
   "source": []
  },
  {
   "cell_type": "code",
   "execution_count": 44,
   "id": "d5e1c42b-227f-423a-b02e-fdd921a38920",
   "metadata": {},
   "outputs": [],
   "source": [
    "import sys\n",
    "import os\n",
    "import torch\n",
    "import matplotlib.pyplot as plt\n",
    "import numpy as np\n",
    "\n",
    "# PyTorch TensorBoard support\n",
    "# from torch.utils.tensorboard import SummaryWriter\n",
    "from sklearn.metrics import confusion_matrix, ConfusionMatrixDisplay, precision_recall_fscore_support\n",
    "from torch.utils.data import DataLoader\n",
    "from pathlib import Path\n",
    "from itertools import chain\n",
    "\n",
    "# update the path so we can directly import code from the DVlog\n",
    "sys.path.append(os.path.dirname(os.path.abspath(os.path.join(os.getcwd(), os.pardir, 'DVlog'))))\n",
    "\n",
    "from DVlog.utils.dataloaders import BaseDVlogDataset\n",
    "from DVlog.utils.metrics import calculate_performance_measures, calculate_fairness_measures\n",
    "from DVlog.models.model import BimodalDVlogModel, UnimodalDVlogModel"
   ]
  },
  {
   "cell_type": "markdown",
   "id": "e7c11784-749e-4d18-820c-df01c7024134",
   "metadata": {},
   "source": []
  },
  {
   "cell_type": "code",
   "execution_count": 30,
   "id": "23f96176-7100-46fa-93dc-d4ed496ee469",
   "metadata": {},
   "outputs": [],
   "source": [
    "# HARDCODE SOME VARIABLES\n",
    "# batch size: 32\n",
    "# epochs: 50\n",
    "# learning rate: 0.0002\n",
    "# sequence length (t): 596\n",
    "BATCH_SIZE = 32\n",
    "SEQUENCE_LENGTH = 596\n",
    "DIM_MODEL = 256\n",
    "N_HEADS_UNIMODAL = 8\n",
    "N_HEADS_CROSS = 8\n",
    "USE_GPU = True\n",
    "USE_STD = False\n",
    "SAVED_MODEL_WEIGHTS = \"bimodal_dvlog_v2_cross16\"\n",
    "SAVED_MODEL_PATH = Path(f\"../DVlog/trained_models/model_{SAVED_MODEL_WEIGHTS}\")\n",
    "\n",
    "# evaluation parameters\n",
    "modality = \"both\" # can choose between 'acoustic', 'visual', or 'both'\n",
    "dataset = \"test\" # can choose between 'test', 'train', or 'val'\n",
    "fairness_unprivileged = \"m\"\n",
    "visual_feature_dim = 136\n",
    "acoustic_feature_dim = 25\n",
    "\n",
    "# do the checks over the parameters\n",
    "assert modality in [\"visual\", \"acoustic\", \"both\"], f\"Modality type not in choices: {modality}\"\n",
    "assert dataset in [\"test\", \"train\", \"val\"], f\"Chosen dataset not in choices: {dataset}\"\n",
    "assert SAVED_MODEL_PATH.is_file(), f\"Saved model not found: {SAVED_MODEL_PATH}\"\n",
    "\n",
    "\n",
    "# setup the paths\n",
    "annotations_file = Path(r\"../DVlog/dataset/dvlog_labels_v2.csv\")\n",
    "data_dir = Path(r\"../DVlog/dataset/dvlog-dataset\")"
   ]
  },
  {
   "cell_type": "code",
   "execution_count": 33,
   "id": "13ad5c81-1778-48b8-a381-e2a1a2e1f367",
   "metadata": {},
   "outputs": [
    {
     "name": "stdout",
     "output_type": "stream",
     "text": [
      "Model: bimodal_dvlog_v2_cross16\n",
      "----------\n",
      "Accuracy: 0.5393939393939394\n",
      "Precision: 0.2909458218549128\n",
      "Recall: 0.5393939393939394\n",
      "F1-score: 0.37800047721307567\n",
      "----------\n",
      "Equal odds: 1.0\n",
      "Equal opportunity: 1.0\n",
      "Equal accuracy: 1.0\n",
      "----------\n"
     ]
    },
    {
     "name": "stderr",
     "output_type": "stream",
     "text": [
      "C:\\Users\\stan_\\anaconda3\\envs\\dvlog_env\\Lib\\site-packages\\sklearn\\metrics\\_classification.py:1344: UndefinedMetricWarning: Precision and F-score are ill-defined and being set to 0.0 in labels with no predicted samples. Use `zero_division` parameter to control this behavior.\n",
      "  _warn_prf(average, modifier, msg_start, len(result))\n"
     ]
    }
   ],
   "source": [
    "# load the saved version of the model\n",
    "if modality == \"acoustic\":\n",
    "    # acoustic unimodel\n",
    "    saved_model = UnimodalDVlogModel(data_shape=(SEQUENCE_LENGTH, acoustic_feature_dim), d_model=DIM_MODEL, n_heads=N_HEADS_UNIMODAL, use_std=USE_STD)\n",
    "elif modality == \"visual\":\n",
    "    # visual unimodel\n",
    "    saved_model = UnimodalDVlogModel(data_shape=(SEQUENCE_LENGTH, visual_feature_dim), d_model=DIM_MODEL, n_heads=N_HEADS_UNIMODAL, use_std=USE_STD)\n",
    "else:\n",
    "    # bimodal model\n",
    "    saved_model = BimodalDVlogModel(d_model=DIM_MODEL, n_heads=N_HEADS_CROSS, use_std=USE_STD)\n",
    "\n",
    "saved_model.load_state_dict(torch.load(SAVED_MODEL_PATH))\n",
    "# Set the model to evaluation mode\n",
    "saved_model.eval()\n",
    "\n",
    "# load in the dataset\n",
    "eval_dataset = BaseDVlogDataset(annotations_file, data_dir, dataset=dataset, sequence_length=SEQUENCE_LENGTH, to_tensor=True, with_protected=True)\n",
    "\n",
    "# setup the dataloader\n",
    "eval_dataloader = DataLoader(eval_dataset, batch_size=BATCH_SIZE, shuffle=True)\n",
    "\n",
    "predictions = []\n",
    "y_labels = []\n",
    "protected = []\n",
    "\n",
    "# Disable gradient computation and reduce memory consumption.\n",
    "with torch.no_grad():\n",
    "    for i, vdata in enumerate(eval_dataloader):\n",
    "\n",
    "        # choose the appropriate inputs\n",
    "        if modality == \"acoustic\":\n",
    "            _, v_inputs, vlabels, v_protected = vdata\n",
    "        elif modality == \"visual\":\n",
    "            v_inputs, _, vlabels, v_protected = vdata\n",
    "        else:\n",
    "            v_inputs_v, v_inputs_a, vlabels, v_protected = vdata\n",
    "\n",
    "        # forward + backward + optimize\n",
    "        if modality == \"both\":\n",
    "            voutputs = saved_model((v_inputs_a, v_inputs_v))\n",
    "        else:\n",
    "            voutputs = saved_model(v_inputs)\n",
    "\n",
    "        # save the predictions and ground truths from each batch for processing\n",
    "        predictions.append(voutputs.numpy())\n",
    "        y_labels.append(vlabels.numpy())\n",
    "        protected.append(v_protected)\n",
    "\n",
    "# get the performance and fairness metrics\n",
    "accuracy, precision, recall, fscore = calculate_performance_measures(y_labels, predictions)\n",
    "eq_odds, eq_oppor, eq_acc = calculate_fairness_measures(y_labels, predictions, protected, fairness_unprivileged)\n",
    "\n",
    "# print out all the metrics\n",
    "print(f\"Model: {SAVED_MODEL_WEIGHTS}\\n----------\")\n",
    "print(f\"Accuracy: {accuracy}\\nPrecision: {precision}\\nRecall: {recall}\\nF1-score: {fscore}\\n----------\")\n",
    "print(f\"Equal odds: {eq_odds}\\nEqual opportunity: {eq_oppor}\\nEqual accuracy: {eq_oppor}\\n----------\")"
   ]
  },
  {
   "cell_type": "code",
   "execution_count": 52,
   "id": "3887bf23-6f21-44d1-bd9e-bfa5d68054d2",
   "metadata": {},
   "outputs": [
    {
     "name": "stdout",
     "output_type": "stream",
     "text": [
      "[1 1 1 1 1 1 1 1 1 1 1 1 1 1 1 1 1 1 1 1 1 1 1 1 1 1 1 1 1 1 1 1 1 1 1 1 1\n",
      " 1 1 1 1 1 1 1 1 1 1 1 1 1 1 1 1 1 1 1 1 1 1 1 1 1 1 1 1 1 1 1 1 1 1 1 1 1\n",
      " 1 1 1 1 1 1 1 1 1 1 1 1 1 1 1 1 1 1 1 1 1 1 1 1 1 1 1 1 1 1 1 1 1 1 1 1 1\n",
      " 1 1 1 1 1 1 1 1 1 1 1 1 1 1 1 1 1 1 1 1 1 1 1 1 1 1 1 1 1 1 1 1 1 1 1 1 1\n",
      " 1 1 1 1 1 1 1 1 1 1 1 1 1 1 1 1 1]\n",
      "Female metrics:\n",
      "---\n",
      "Precision: 0.308641975308642\n",
      "Recall: 0.5555555555555556\n",
      "F1-score: 0.39682539682539686\n",
      "----------\n",
      "Male metrics:\n",
      "---\n",
      "Precision: 0.25884887657740846\n",
      "Recall: 0.5087719298245614\n",
      "F1-score: 0.34312525499796004\n",
      "----------\n"
     ]
    }
   ],
   "source": [
    "# first flatten the predictions and ground truths\n",
    "y_pred = np.argmax(np.concatenate(predictions), axis=1)\n",
    "y_true = np.argmax(np.concatenate(y_labels), axis=1)\n",
    "y_protected = np.array(list(chain.from_iterable(protected)))\n",
    "\n",
    "# check the precision, recall, F1-score for each gender\n",
    "m_indices = np.where(y_protected == 'm')\n",
    "y_pred_m = y_pred[m_indices]\n",
    "y_true_m = y_true[m_indices]\n",
    "\n",
    "f_indices = np.where(y_protected == 'f')\n",
    "y_pred_f = y_pred[f_indices]\n",
    "y_true_f = y_true[f_indices]\n",
    "\n",
    "# print it\n",
    "f_prec, f_rec, f_f1, _ = precision_recall_fscore_support(y_true_f, y_pred_f, average=\"weighted\", zero_division=0)\n",
    "print(f\"Female metrics:\\n---\\nPrecision: {f_prec}\\nRecall: {f_rec}\\nF1-score: {f_f1}\\n----------\")\n",
    "\n",
    "m_prec, m_rec, m_f1, _ = precision_recall_fscore_support(y_true_m, y_pred_m, average=\"weighted\", zero_division=0)\n",
    "print(f\"Male metrics:\\n---\\nPrecision: {m_prec}\\nRecall: {m_rec}\\nF1-score: {m_f1}\\n----------\")"
   ]
  },
  {
   "cell_type": "code",
   "execution_count": 79,
   "id": "a9e1589b-00ed-4e90-86c7-873a7a6465ef",
   "metadata": {},
   "outputs": [
    {
     "data": {
      "image/png": "[encoded data removed]",
      "text/plain": [
       "<Figure size 1600x1000 with 3 Axes>"
      ]
     },
     "metadata": {},
     "output_type": "display_data"
    }
   ],
   "source": [
    "# make a confusion matrix for the predictions\n",
    "title_size = 16\n",
    "cmap = \"Blues\"  # Try \"Greens\". Change the color of the confusion matrix.\n",
    "colorbar = False\n",
    "labels = [0, 1]\n",
    "display_labels = [\"normal\", \"depressed\"]\n",
    "\n",
    "cm_both = confusion_matrix(y_true, y_pred, labels=labels)\n",
    "cm_m = confusion_matrix(y_true_m, y_pred_m, labels=labels)\n",
    "cm_f = confusion_matrix(y_true_f, y_pred_f, labels=labels)\n",
    "\n",
    "# Create subplots for given confusion matrices\n",
    "f, axes = plt.subplots(1, 3, figsize=(16, 10))\n",
    "\n",
    "# Plot the first confusion matrix (Model 1) at position (0, 0)\n",
    "axes[0].set_title(\"Both genders\", size=title_size)\n",
    "ConfusionMatrixDisplay(confusion_matrix=cm_both, display_labels=display_labels).plot(\n",
    "    include_values=True, cmap=cmap, ax=axes[0], colorbar=colorbar)\n",
    "\n",
    "# Remove x-axis labels and ticks\n",
    "# axes[0].xaxis.set_ticklabels(['', ''])\n",
    "axes[0].set_xlabel('')\n",
    "axes[0].tick_params(axis='x', which='both', bottom=False, top=False, labelbottom=False)\n",
    "\n",
    "# Plot the second confusion matrix (Model 2) at position (0, 1)\n",
    "axes[1].set_title(\"Female\", size=title_size)\n",
    "ConfusionMatrixDisplay(confusion_matrix=cm_f, display_labels=display_labels).plot(\n",
    "    include_values=True, cmap=cmap, ax=axes[1], colorbar=colorbar)\n",
    "\n",
    "# Remove x and y-axis labels and ticks\n",
    "# axes[1].xaxis.set_ticklabels(['', ''])\n",
    "axes[1].yaxis.set_ticklabels(['', ''])\n",
    "axes[1].set_xlabel('')\n",
    "axes[1].set_ylabel('')\n",
    "axes[1].tick_params(axis='both', which='both', bottom=False, left=False)\n",
    "\n",
    "# Plot the third confusion matrix (Model 3) at position (1, 0)\n",
    "axes[2].set_title(\"Male\", size=title_size)\n",
    "ConfusionMatrixDisplay(confusion_matrix=cm_m, display_labels=display_labels).plot(\n",
    "    include_values=True, cmap=cmap, ax=axes[2], colorbar=colorbar)\n",
    "\n",
    "# Remove x-axis labels and ticks\n",
    "# axes[2].xaxis.set_ticklabels(['', ''])\n",
    "axes[2].yaxis.set_ticklabels(['', ''])\n",
    "axes[2].set_xlabel('')\n",
    "axes[2].set_ylabel('')\n",
    "axes[2].tick_params(axis='x', which='both', bottom=False)\n",
    "\n",
    "# Set the figure's suptitle and display the plot\n",
    "f.suptitle(\"Multiple Confusion Matrices\", size=title_size, y=0.93)\n",
    "\n",
    "plt.show()"
   ]
  }
 ],
 "metadata": {
  "kernelspec": {
   "display_name": "Python 3 (ipykernel)",
   "language": "python",
   "name": "python3"
  },
  "language_info": {
   "codemirror_mode": {
    "name": "ipython",
    "version": 3
   },
   "file_extension": ".py",
   "mimetype": "text/x-python",
   "name": "python",
   "nbconvert_exporter": "python",
   "pygments_lexer": "ipython3",
   "version": "3.11.7"
  }
 },
 "nbformat": 4,
 "nbformat_minor": 5
}
