{
 "cells": [
  {
   "cell_type": "markdown",
   "id": "aeafff15-b9e8-4227-9ea0-c86e876f189e",
   "metadata": {},
   "source": []
  },
  {
   "cell_type": "code",
   "execution_count": 1,
   "id": "e4aaa4dc-d1cb-4d5e-9f30-88244471de9b",
   "metadata": {
    "tags": []
   },
   "outputs": [],
   "source": [
    "import pandas as pd\n",
    "\n",
    "from youtube_transcript_api import YouTubeTranscriptApi"
   ]
  },
  {
   "cell_type": "markdown",
   "id": "955892fb-4e04-44df-8941-6fe2538c2ae6",
   "metadata": {},
   "source": []
  },
  {
   "cell_type": "code",
   "execution_count": 2,
   "id": "594f74a2-7a37-4de2-962f-55586e87815b",
   "metadata": {
    "tags": []
   },
   "outputs": [
    {
     "data": {
      "text/html": [
       "<div>\n",
       "<style scoped>\n",
       "    .dataframe tbody tr th:only-of-type {\n",
       "        vertical-align: middle;\n",
       "    }\n",
       "\n",
       "    .dataframe tbody tr th {\n",
       "        vertical-align: top;\n",
       "    }\n",
       "\n",
       "    .dataframe thead th {\n",
       "        text-align: right;\n",
       "    }\n",
       "</style>\n",
       "<table border=\"1\" class=\"dataframe\">\n",
       "  <thead>\n",
       "    <tr style=\"text-align: right;\">\n",
       "      <th></th>\n",
       "      <th>video_id</th>\n",
       "      <th>label</th>\n",
       "      <th>key</th>\n",
       "      <th>gender</th>\n",
       "      <th>duration</th>\n",
       "      <th>channelId</th>\n",
       "    </tr>\n",
       "  </thead>\n",
       "  <tbody>\n",
       "    <tr>\n",
       "      <th>0</th>\n",
       "      <td>0</td>\n",
       "      <td>depression</td>\n",
       "      <td>2s3EFyjUmfs</td>\n",
       "      <td>f</td>\n",
       "      <td>823.31</td>\n",
       "      <td>UCWx_Fqt2AziUyAHVjgUH1PQ</td>\n",
       "    </tr>\n",
       "    <tr>\n",
       "      <th>1</th>\n",
       "      <td>1</td>\n",
       "      <td>depression</td>\n",
       "      <td>MCaKQvEofrE</td>\n",
       "      <td>f</td>\n",
       "      <td>436.65</td>\n",
       "      <td>UCxxhKhiRPfPe_U78ao3FKLw</td>\n",
       "    </tr>\n",
       "    <tr>\n",
       "      <th>2</th>\n",
       "      <td>2</td>\n",
       "      <td>depression</td>\n",
       "      <td>6o-DlNR_cIs</td>\n",
       "      <td>m</td>\n",
       "      <td>835.83</td>\n",
       "      <td>UCCXKRG3s-auYMFIAKjeey_Q</td>\n",
       "    </tr>\n",
       "    <tr>\n",
       "      <th>3</th>\n",
       "      <td>3</td>\n",
       "      <td>depression</td>\n",
       "      <td>gxZjgt3Gnug</td>\n",
       "      <td>m</td>\n",
       "      <td>420.61</td>\n",
       "      <td>UCuhfaNXfRLFfVVc6dSNoyhA</td>\n",
       "    </tr>\n",
       "    <tr>\n",
       "      <th>4</th>\n",
       "      <td>4</td>\n",
       "      <td>depression</td>\n",
       "      <td>oc72xdTxJ50</td>\n",
       "      <td>f</td>\n",
       "      <td>444.55</td>\n",
       "      <td>UCbiKXPwk590XYYqqCEbtgoA</td>\n",
       "    </tr>\n",
       "  </tbody>\n",
       "</table>\n",
       "</div>"
      ],
      "text/plain": [
       "   video_id       label          key gender  duration  \\\n",
       "0         0  depression  2s3EFyjUmfs      f    823.31   \n",
       "1         1  depression  MCaKQvEofrE      f    436.65   \n",
       "2         2  depression  6o-DlNR_cIs      m    835.83   \n",
       "3         3  depression  gxZjgt3Gnug      m    420.61   \n",
       "4         4  depression  oc72xdTxJ50      f    444.55   \n",
       "\n",
       "                  channelId  \n",
       "0  UCWx_Fqt2AziUyAHVjgUH1PQ  \n",
       "1  UCxxhKhiRPfPe_U78ao3FKLw  \n",
       "2  UCCXKRG3s-auYMFIAKjeey_Q  \n",
       "3  UCuhfaNXfRLFfVVc6dSNoyhA  \n",
       "4  UCbiKXPwk590XYYqqCEbtgoA  "
      ]
     },
     "execution_count": 2,
     "metadata": {},
     "output_type": "execute_result"
    }
   ],
   "source": [
    "df_dvlog = pd.read_csv(\"./data/dvlog.csv\")\n",
    "\n",
    "df_dvlog.head()"
   ]
  },
  {
   "cell_type": "code",
   "execution_count": 3,
   "id": "fc95b718-01b1-4539-9216-cfeac92661d3",
   "metadata": {
    "tags": []
   },
   "outputs": [],
   "source": [
    "def retrieve_transcript(video_id: str):\n",
    "    \"\"\"\"\"\"\n",
    "    try:\n",
    "        transcript = YouTubeTranscriptApi.get_transcript(video_id)\n",
    "        transcript_text = \" \".join([x.get(\"text\") for x in transcript])\n",
    "\n",
    "    except Exception as e:\n",
    "        # we've encountered an error on the transcripts\n",
    "        transcript = \"transcript not available anymore\"\n",
    "        transcript_text = \"transcript not available anymore\"\n",
    "\n",
    "    return transcript, transcript_text"
   ]
  },
  {
   "cell_type": "code",
   "execution_count": 10,
   "id": "571f1b0d-8ac5-4807-b89d-8e1d382e9838",
   "metadata": {
    "tags": []
   },
   "outputs": [],
   "source": [
    "from pytube import YouTube\n",
    "from typing import Tuple\n",
    "\n",
    "def download_video(video_info: Tuple[int, str]):\n",
    "    \"\"\"\"\"\"\n",
    "    video_id, video_url = video_info\n",
    "    link = f'https://www.youtube.com/watch?v={video_url}'\n",
    "    output_path = f\"./data/dvlog_videos/\"\n",
    "\n",
    "    try:\n",
    "        youtubeObject = YouTube(link)\n",
    "        youtubeObject = youtubeObject.streams.get_by_resolution(\"720p\")\n",
    "\n",
    "        if youtubeObject is None:\n",
    "            youtubeObject = YouTube(link)\n",
    "            youtubeObject = youtubeObject.streams.get_highest_resolution()\n",
    "\n",
    "        # download the video\n",
    "        youtubeObject.download(output_path=output_path, filename=f\"{video_id}_{video_url}\")\n",
    "\n",
    "    except Exception as e:\n",
    "        print(f\"{video_url}: An error has occurred\")\n",
    "\n",
    "    return video_url\n"
   ]
  },
  {
   "cell_type": "code",
   "execution_count": 9,
   "id": "1f3d6c24-91ad-4ed6-ad7d-401675f37f3d",
   "metadata": {
    "tags": []
   },
   "outputs": [],
   "source": [
    "transcripts = []\n",
    "i = 0\n",
    "\n",
    "for _, row in df_dvlog.iterrows():\n",
    "    \n",
    "    video_id = (row[\"video_id\"], row[\"key\"])\n",
    "    # transcripts.append(retrieve_transcript(video_id))\n",
    "    download_video(video_id)\n",
    "    break\n",
    "\n",
    "    i += 1\n",
    "    if i % 25 == 0:\n",
    "        print(f\"Processed {i} videos\")\n",
    "\n",
    "# video_id = \"2s3EFyjUmfs\"\n",
    "# video_id = \"JInS8mYas1g\""
   ]
  }
 ],
 "metadata": {
  "kernelspec": {
   "display_name": "Python 3 (ipykernel)",
   "language": "python",
   "name": "python3"
  },
  "language_info": {
   "codemirror_mode": {
    "name": "ipython",
    "version": 3
   },
   "file_extension": ".py",
   "mimetype": "text/x-python",
   "name": "python",
   "nbconvert_exporter": "python",
   "pygments_lexer": "ipython3",
   "version": "3.11.5"
  }
 },
 "nbformat": 4,
 "nbformat_minor": 5
}
