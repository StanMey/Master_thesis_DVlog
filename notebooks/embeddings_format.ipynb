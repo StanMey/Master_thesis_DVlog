{
 "cells": [
  {
   "cell_type": "markdown",
   "id": "5720c5a4-77c2-47ec-895f-b1265637865a",
   "metadata": {},
   "source": []
  },
  {
   "cell_type": "code",
   "execution_count": 1,
   "id": "5740bb8e-3cce-4905-aaac-aec8ea35b893",
   "metadata": {},
   "outputs": [],
   "source": [
    "import warnings\n",
    "warnings.filterwarnings('ignore')\n",
    "\n",
    "import json\n",
    "import os\n",
    "import string\n",
    "import time\n",
    "\n",
    "import pandas as pd\n",
    "import numpy as np\n",
    "\n",
    "from pathlib import Path"
   ]
  },
  {
   "cell_type": "markdown",
   "id": "d20b8ed2-c556-4735-9074-0f1ce05fb126",
   "metadata": {},
   "source": []
  },
  {
   "cell_type": "code",
   "execution_count": null,
   "id": "ff3ffa28-06d0-4e85-b3fe-383ba8d99ba9",
   "metadata": {},
   "outputs": [],
   "source": [
    "json_dir = Path(r\"../data/dvlog_text\")\n",
    "annotations_file = Path(r\"../DVlog/dataset/dvlog_labels_v2.csv\")"
   ]
  },
  {
   "cell_type": "code",
   "execution_count": null,
   "id": "25bfd402-d8b2-4112-b606-291f0b5973ba",
   "metadata": {},
   "outputs": [],
   "source": []
  },
  {
   "cell_type": "markdown",
   "id": "821ca238-bbe7-432a-a6a8-5c19a4b8b077",
   "metadata": {},
   "source": [
    "## Word2vec (Google-news)"
   ]
  },
  {
   "cell_type": "code",
   "execution_count": null,
   "id": "91b6e749-2885-4793-8056-47a4cc88a899",
   "metadata": {},
   "outputs": [],
   "source": [
    "run_word2vec = True\n",
    "\n"
   ]
  },
  {
   "cell_type": "markdown",
   "id": "6ffebe11-9daa-4557-ae91-ed63a3c0ee4f",
   "metadata": {},
   "source": [
    "## BioWordVec"
   ]
  },
  {
   "cell_type": "code",
   "execution_count": null,
   "id": "be86f2df-df42-4822-9e4b-8dca841041ab",
   "metadata": {},
   "outputs": [],
   "source": []
  },
  {
   "cell_type": "markdown",
   "id": "3c2c3234-0175-4f61-93e1-7af92d25790f",
   "metadata": {},
   "source": [
    "## BioWordSent"
   ]
  },
  {
   "cell_type": "code",
   "execution_count": null,
   "id": "7ca3731b-c31e-4cca-b9ad-ee5ce371bb84",
   "metadata": {},
   "outputs": [],
   "source": []
  },
  {
   "cell_type": "code",
   "execution_count": null,
   "id": "7f8c2c20-57a3-4fc7-a1cc-4f00cde88cb0",
   "metadata": {},
   "outputs": [],
   "source": []
  }
 ],
 "metadata": {
  "kernelspec": {
   "display_name": "Python 3 (ipykernel)",
   "language": "python",
   "name": "python3"
  },
  "language_info": {
   "codemirror_mode": {
    "name": "ipython",
    "version": 3
   },
   "file_extension": ".py",
   "mimetype": "text/x-python",
   "name": "python",
   "nbconvert_exporter": "python",
   "pygments_lexer": "ipython3",
   "version": "3.11.7"
  }
 },
 "nbformat": 4,
 "nbformat_minor": 5
}
