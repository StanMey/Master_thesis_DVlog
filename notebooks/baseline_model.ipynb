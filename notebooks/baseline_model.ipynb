{
 "cells": [
  {
   "cell_type": "markdown",
   "id": "a94abbc4-72f4-4503-bdae-b84106e26749",
   "metadata": {},
   "source": [
    "# "
   ]
  },
  {
   "cell_type": "code",
   "execution_count": 3,
   "id": "7b07bdb4-f3f4-41c6-a68a-c911812e5b02",
   "metadata": {},
   "outputs": [],
   "source": [
    "import warnings\n",
    "warnings.filterwarnings('ignore')\n",
    "\n",
    "import pandas as pd\n",
    "import numpy as np\n",
    "import os\n",
    "\n",
    "from pathlib import Path"
   ]
  },
  {
   "cell_type": "markdown",
   "id": "5d519cbb-29df-4c12-9485-3c914786c6d5",
   "metadata": {},
   "source": []
  },
  {
   "cell_type": "code",
   "execution_count": 4,
   "id": "cc2d2778-04aa-4030-ab42-b54d64500dd8",
   "metadata": {},
   "outputs": [],
   "source": [
    "annotations_file = Path(r\"../DVlog/dataset/dvlog_labels_v2.csv\")\n",
    "\n",
    "dvlog_features_path = Path(r\"../DVlog/dataset/dvlog-dataset\")\n",
    "pdem_features_path = Path(r\"../DVlog/dataset/pdem-dataset\")\n",
    "text_embeddings_path = Path(r\"../DVlog/dataset/embeddings-dataset\")\n",
    "sent_embeddings_path = Path(r\"../DVlog/dataset/sent-embeddings-dataset\")"
   ]
  },
  {
   "cell_type": "code",
   "execution_count": null,
   "id": "a0d7dc54-30b1-490b-9376-b51969a02bb7",
   "metadata": {},
   "outputs": [],
   "source": []
  }
 ],
 "metadata": {
  "kernelspec": {
   "display_name": "Python 3 (ipykernel)",
   "language": "python",
   "name": "python3"
  },
  "language_info": {
   "codemirror_mode": {
    "name": "ipython",
    "version": 3
   },
   "file_extension": ".py",
   "mimetype": "text/x-python",
   "name": "python",
   "nbconvert_exporter": "python",
   "pygments_lexer": "ipython3",
   "version": "3.11.5"
  }
 },
 "nbformat": 4,
 "nbformat_minor": 5
}
