{
 "cells": [
  {
   "cell_type": "markdown",
   "id": "5782515b-c99c-40ab-b967-2495e86cb448",
   "metadata": {},
   "source": [
    "# DVlog dataset\n",
    "## DVlog dataset V1 (original dataset)"
   ]
  },
  {
   "cell_type": "code",
   "execution_count": 1,
   "id": "2fba06d2-4ad7-41c2-8a36-e1794ead9334",
   "metadata": {
    "tags": []
   },
   "outputs": [],
   "source": [
    "import warnings\n",
    "warnings.filterwarnings('ignore')\n",
    "\n",
    "import pandas as pd\n",
    "import numpy as np\n",
    "import os\n",
    "\n",
    "from sklearn.model_selection import train_test_split\n",
    "\n",
    "seed = 42"
   ]
  },
  {
   "cell_type": "markdown",
   "id": "e62c3128-5110-46db-bccb-44fca59125cc",
   "metadata": {},
   "source": []
  },
  {
   "cell_type": "code",
   "execution_count": 59,
   "id": "ebe77130-8d50-45b8-8ee1-cd7485a49350",
   "metadata": {},
   "outputs": [
    {
     "data": {
      "text/html": [
       "<div>\n",
       "<style scoped>\n",
       "    .dataframe tbody tr th:only-of-type {\n",
       "        vertical-align: middle;\n",
       "    }\n",
       "\n",
       "    .dataframe tbody tr th {\n",
       "        vertical-align: top;\n",
       "    }\n",
       "\n",
       "    .dataframe thead th {\n",
       "        text-align: right;\n",
       "    }\n",
       "</style>\n",
       "<table border=\"1\" class=\"dataframe\">\n",
       "  <thead>\n",
       "    <tr style=\"text-align: right;\">\n",
       "      <th></th>\n",
       "      <th>video_id</th>\n",
       "      <th>label</th>\n",
       "      <th>key</th>\n",
       "      <th>gender</th>\n",
       "      <th>duration</th>\n",
       "      <th>channelId</th>\n",
       "      <th>transcript</th>\n",
       "      <th>transcript annotated</th>\n",
       "    </tr>\n",
       "  </thead>\n",
       "  <tbody>\n",
       "    <tr>\n",
       "      <th>0</th>\n",
       "      <td>0</td>\n",
       "      <td>depression</td>\n",
       "      <td>2s3EFyjUmfs</td>\n",
       "      <td>f</td>\n",
       "      <td>823.31</td>\n",
       "      <td>UCWx_Fqt2AziUyAHVjgUH1PQ</td>\n",
       "      <td>so I wanted to come on here and sit down with ...</td>\n",
       "      <td>[{'text': 'so I wanted to come on here and sit...</td>\n",
       "    </tr>\n",
       "    <tr>\n",
       "      <th>1</th>\n",
       "      <td>1</td>\n",
       "      <td>depression</td>\n",
       "      <td>MCaKQvEofrE</td>\n",
       "      <td>f</td>\n",
       "      <td>436.65</td>\n",
       "      <td>UCxxhKhiRPfPe_U78ao3FKLw</td>\n",
       "      <td>hello guys it's me again and i'm going to talk...</td>\n",
       "      <td>[{'text': 'hello guys', 'start': 9.599, 'durat...</td>\n",
       "    </tr>\n",
       "    <tr>\n",
       "      <th>2</th>\n",
       "      <td>2</td>\n",
       "      <td>depression</td>\n",
       "      <td>6o-DlNR_cIs</td>\n",
       "      <td>m</td>\n",
       "      <td>835.83</td>\n",
       "      <td>UCCXKRG3s-auYMFIAKjeey_Q</td>\n",
       "      <td>welcome back to another video today I'm gonna ...</td>\n",
       "      <td>[{'text': \"welcome back to another video today...</td>\n",
       "    </tr>\n",
       "    <tr>\n",
       "      <th>3</th>\n",
       "      <td>3</td>\n",
       "      <td>depression</td>\n",
       "      <td>gxZjgt3Gnug</td>\n",
       "      <td>m</td>\n",
       "      <td>420.61</td>\n",
       "      <td>UCuhfaNXfRLFfVVc6dSNoyhA</td>\n",
       "      <td>hi everybody and welcome to and in the clouds ...</td>\n",
       "      <td>[{'text': 'hi everybody and welcome to and in ...</td>\n",
       "    </tr>\n",
       "    <tr>\n",
       "      <th>4</th>\n",
       "      <td>4</td>\n",
       "      <td>depression</td>\n",
       "      <td>oc72xdTxJ50</td>\n",
       "      <td>f</td>\n",
       "      <td>444.55</td>\n",
       "      <td>UCbiKXPwk590XYYqqCEbtgoA</td>\n",
       "      <td>Hey, Hey Me and my crown Me and my hairy hair ...</td>\n",
       "      <td>[{'text': 'Hey, Hey', 'start': 1.04, 'duration...</td>\n",
       "    </tr>\n",
       "  </tbody>\n",
       "</table>\n",
       "</div>"
      ],
      "text/plain": [
       "   video_id       label          key gender  duration  \\\n",
       "0         0  depression  2s3EFyjUmfs      f    823.31   \n",
       "1         1  depression  MCaKQvEofrE      f    436.65   \n",
       "2         2  depression  6o-DlNR_cIs      m    835.83   \n",
       "3         3  depression  gxZjgt3Gnug      m    420.61   \n",
       "4         4  depression  oc72xdTxJ50      f    444.55   \n",
       "\n",
       "                  channelId  \\\n",
       "0  UCWx_Fqt2AziUyAHVjgUH1PQ   \n",
       "1  UCxxhKhiRPfPe_U78ao3FKLw   \n",
       "2  UCCXKRG3s-auYMFIAKjeey_Q   \n",
       "3  UCuhfaNXfRLFfVVc6dSNoyhA   \n",
       "4  UCbiKXPwk590XYYqqCEbtgoA   \n",
       "\n",
       "                                          transcript  \\\n",
       "0  so I wanted to come on here and sit down with ...   \n",
       "1  hello guys it's me again and i'm going to talk...   \n",
       "2  welcome back to another video today I'm gonna ...   \n",
       "3  hi everybody and welcome to and in the clouds ...   \n",
       "4  Hey, Hey Me and my crown Me and my hairy hair ...   \n",
       "\n",
       "                                transcript annotated  \n",
       "0  [{'text': 'so I wanted to come on here and sit...  \n",
       "1  [{'text': 'hello guys', 'start': 9.599, 'durat...  \n",
       "2  [{'text': \"welcome back to another video today...  \n",
       "3  [{'text': 'hi everybody and welcome to and in ...  \n",
       "4  [{'text': 'Hey, Hey', 'start': 1.04, 'duration...  "
      ]
     },
     "execution_count": 59,
     "metadata": {},
     "output_type": "execute_result"
    }
   ],
   "source": [
    "# load in the data from the excel file\n",
    "df_data = pd.read_excel(\"../data/dvlog_transcripts.xlsx\")\n",
    "df_data.head()"
   ]
  },
  {
   "cell_type": "markdown",
   "id": "f84f6528-303e-4fd1-8ee5-87b2bfa17a9c",
   "metadata": {},
   "source": []
  },
  {
   "cell_type": "code",
   "execution_count": 60,
   "id": "6cbb36a0-dd80-4436-8a3d-5420ae1ce7a9",
   "metadata": {},
   "outputs": [
    {
     "name": "stdout",
     "output_type": "stream",
     "text": [
      "size: 961\n",
      "label\n",
      "depression    555\n",
      "normal        406\n",
      "Name: video_id, dtype: int64\n",
      "816\n"
     ]
    }
   ],
   "source": [
    "# print the new sizes\n",
    "print(f\"size: {len(df_data)}\")\n",
    "print(df_data.groupby(\"label\").count()[\"video_id\"])\n",
    "\n",
    "print(len(df_data[\"channelId\"].unique()))"
   ]
  },
  {
   "cell_type": "code",
   "execution_count": 61,
   "id": "ee474418-19af-464b-a80a-026fc371f541",
   "metadata": {},
   "outputs": [
    {
     "name": "stdout",
     "output_type": "stream",
     "text": [
      "672 191 98\n"
     ]
    }
   ],
   "source": [
    "# create a new column that is a concatenation of the values in your other columns and stratify on the new column\n",
    "# https://stackoverflow.com/questions/45516424/sklearn-train-test-split-on-pandas-stratify-by-multiple-columns\n",
    "df_data[\"strat\"] = df_data[\"label\"].astype(str) + \"_\" + df_data[\"gender\"].astype(str)\n",
    "\n",
    "# train, val, test sets with 7:1:2 ratio\n",
    "# split the train set from the other sets\n",
    "df_train, df_test = train_test_split(df_data, test_size=0.3, random_state=seed, stratify=df_data[['strat']])\n",
    "\n",
    "# split the sets into a validation and trainset\n",
    "df_val, df_test = train_test_split(df_test, test_size=0.66, random_state=seed, stratify=df_test[['strat']])\n",
    "print(len(df_train), len(df_test), len(df_val))"
   ]
  },
  {
   "cell_type": "code",
   "execution_count": 62,
   "id": "2513d03c-8607-471b-bc4f-c7cf729a09cd",
   "metadata": {},
   "outputs": [
    {
     "data": {
      "text/plain": [
       "label       gender\n",
       "depression  f         261\n",
       "            m         127\n",
       "normal      f         186\n",
       "            m          98\n",
       "Name: strat, dtype: int64"
      ]
     },
     "execution_count": 62,
     "metadata": {},
     "output_type": "execute_result"
    }
   ],
   "source": [
    "df_train.groupby([\"label\", \"gender\"]).count()[\"strat\"]"
   ]
  },
  {
   "cell_type": "code",
   "execution_count": 63,
   "id": "633e7619-05b4-4821-bbad-484f887c7555",
   "metadata": {},
   "outputs": [
    {
     "data": {
      "text/plain": [
       "label       gender\n",
       "depression  f         74\n",
       "            m         36\n",
       "normal      f         53\n",
       "            m         28\n",
       "Name: strat, dtype: int64"
      ]
     },
     "execution_count": 63,
     "metadata": {},
     "output_type": "execute_result"
    }
   ],
   "source": [
    "df_test.groupby([\"label\", \"gender\"]).count()[\"strat\"]"
   ]
  },
  {
   "cell_type": "code",
   "execution_count": 64,
   "id": "8adbff63-30a8-4076-ae68-99e021e28aca",
   "metadata": {},
   "outputs": [
    {
     "data": {
      "text/plain": [
       "label       gender\n",
       "depression  f         38\n",
       "            m         19\n",
       "normal      f         27\n",
       "            m         14\n",
       "Name: strat, dtype: int64"
      ]
     },
     "execution_count": 64,
     "metadata": {},
     "output_type": "execute_result"
    }
   ],
   "source": [
    "df_val.groupby([\"label\", \"gender\"]).count()[\"strat\"]"
   ]
  },
  {
   "cell_type": "code",
   "execution_count": 65,
   "id": "7b8ccb38-2233-45a8-852e-4067c722a2c6",
   "metadata": {},
   "outputs": [],
   "source": [
    "# set(df_train['channelId'].values).intersection(set(df_test['channelId'].values))"
   ]
  },
  {
   "cell_type": "markdown",
   "id": "ba9cddb0-939c-4204-b1d4-2a87053f0530",
   "metadata": {},
   "source": [
    "Build it back into one dvlog csv file so the dataloader has easy access to the data."
   ]
  },
  {
   "cell_type": "code",
   "execution_count": 79,
   "id": "b009ecfd-e635-42d0-8083-a604c973b11b",
   "metadata": {},
   "outputs": [
    {
     "data": {
      "text/html": [
       "<div>\n",
       "<style scoped>\n",
       "    .dataframe tbody tr th:only-of-type {\n",
       "        vertical-align: middle;\n",
       "    }\n",
       "\n",
       "    .dataframe tbody tr th {\n",
       "        vertical-align: top;\n",
       "    }\n",
       "\n",
       "    .dataframe thead th {\n",
       "        text-align: right;\n",
       "    }\n",
       "</style>\n",
       "<table border=\"1\" class=\"dataframe\">\n",
       "  <thead>\n",
       "    <tr style=\"text-align: right;\">\n",
       "      <th></th>\n",
       "      <th>video_id</th>\n",
       "      <th>label</th>\n",
       "      <th>gender</th>\n",
       "      <th>dataset</th>\n",
       "    </tr>\n",
       "  </thead>\n",
       "  <tbody>\n",
       "    <tr>\n",
       "      <th>0</th>\n",
       "      <td>0</td>\n",
       "      <td>1</td>\n",
       "      <td>f</td>\n",
       "      <td>train</td>\n",
       "    </tr>\n",
       "    <tr>\n",
       "      <th>1</th>\n",
       "      <td>1</td>\n",
       "      <td>1</td>\n",
       "      <td>f</td>\n",
       "      <td>test</td>\n",
       "    </tr>\n",
       "    <tr>\n",
       "      <th>2</th>\n",
       "      <td>2</td>\n",
       "      <td>1</td>\n",
       "      <td>m</td>\n",
       "      <td>train</td>\n",
       "    </tr>\n",
       "    <tr>\n",
       "      <th>3</th>\n",
       "      <td>3</td>\n",
       "      <td>1</td>\n",
       "      <td>m</td>\n",
       "      <td>train</td>\n",
       "    </tr>\n",
       "    <tr>\n",
       "      <th>4</th>\n",
       "      <td>4</td>\n",
       "      <td>1</td>\n",
       "      <td>f</td>\n",
       "      <td>train</td>\n",
       "    </tr>\n",
       "  </tbody>\n",
       "</table>\n",
       "</div>"
      ],
      "text/plain": [
       "   video_id  label gender dataset\n",
       "0         0      1      f   train\n",
       "1         1      1      f    test\n",
       "2         2      1      m   train\n",
       "3         3      1      m   train\n",
       "4         4      1      f   train"
      ]
     },
     "execution_count": 79,
     "metadata": {},
     "output_type": "execute_result"
    }
   ],
   "source": [
    "df_dvlog = df_data.copy(deep=True)\n",
    "\n",
    "# remove not needed columns\n",
    "df_dvlog.drop([\"transcript\", \"transcript annotated\", \"strat\", \"channelId\", \"key\", \"duration\"], axis=1, inplace=True)\n",
    "\n",
    "# set the label where 1 = depression and 0 = normal\n",
    "df_dvlog[\"label\"] = np.where(df_dvlog[\"label\"] == \"depression\", 1, 0)\n",
    "\n",
    "# set which dataset each row belongs to\n",
    "df_dvlog[\"dataset\"] = None\n",
    "df_dvlog.loc[df_train.index, \"dataset\"] = \"train\"\n",
    "df_dvlog.loc[df_test.index, \"dataset\"] = \"test\"\n",
    "df_dvlog.loc[df_val.index, \"dataset\"] = \"val\"\n",
    "\n",
    "df_dvlog.head()"
   ]
  },
  {
   "cell_type": "code",
   "execution_count": 80,
   "id": "e5d0783a-bd11-495d-b910-46dc9af80dd7",
   "metadata": {},
   "outputs": [],
   "source": [
    "# save the dataset\n",
    "df_dvlog.to_csv(\"../dvlog/dataset/dvlog_labels_v1.csv\", index=False)"
   ]
  },
  {
   "cell_type": "markdown",
   "id": "dc5a162d-a817-40a2-ad44-593d126b5f02",
   "metadata": {},
   "source": [
    "## DVlog dataset V2 (with available transcripts)\n"
   ]
  },
  {
   "cell_type": "code",
   "execution_count": 23,
   "id": "10a834d3-a9a6-49cb-86f1-b782267819cf",
   "metadata": {
    "tags": []
   },
   "outputs": [
    {
     "name": "stdout",
     "output_type": "stream",
     "text": [
      "961\n"
     ]
    },
    {
     "data": {
      "text/html": [
       "<div>\n",
       "<style scoped>\n",
       "    .dataframe tbody tr th:only-of-type {\n",
       "        vertical-align: middle;\n",
       "    }\n",
       "\n",
       "    .dataframe tbody tr th {\n",
       "        vertical-align: top;\n",
       "    }\n",
       "\n",
       "    .dataframe thead th {\n",
       "        text-align: right;\n",
       "    }\n",
       "</style>\n",
       "<table border=\"1\" class=\"dataframe\">\n",
       "  <thead>\n",
       "    <tr style=\"text-align: right;\">\n",
       "      <th></th>\n",
       "      <th>video_id</th>\n",
       "      <th>label</th>\n",
       "      <th>key</th>\n",
       "      <th>gender</th>\n",
       "      <th>duration</th>\n",
       "      <th>channelId</th>\n",
       "      <th>transcript</th>\n",
       "      <th>transcript annotated</th>\n",
       "    </tr>\n",
       "  </thead>\n",
       "  <tbody>\n",
       "    <tr>\n",
       "      <th>0</th>\n",
       "      <td>0</td>\n",
       "      <td>depression</td>\n",
       "      <td>2s3EFyjUmfs</td>\n",
       "      <td>f</td>\n",
       "      <td>823.31</td>\n",
       "      <td>UCWx_Fqt2AziUyAHVjgUH1PQ</td>\n",
       "      <td>so I wanted to come on here and sit down with ...</td>\n",
       "      <td>[{'text': 'so I wanted to come on here and sit...</td>\n",
       "    </tr>\n",
       "    <tr>\n",
       "      <th>1</th>\n",
       "      <td>1</td>\n",
       "      <td>depression</td>\n",
       "      <td>MCaKQvEofrE</td>\n",
       "      <td>f</td>\n",
       "      <td>436.65</td>\n",
       "      <td>UCxxhKhiRPfPe_U78ao3FKLw</td>\n",
       "      <td>hello guys it's me again and i'm going to talk...</td>\n",
       "      <td>[{'text': 'hello guys', 'start': 9.599, 'durat...</td>\n",
       "    </tr>\n",
       "    <tr>\n",
       "      <th>2</th>\n",
       "      <td>2</td>\n",
       "      <td>depression</td>\n",
       "      <td>6o-DlNR_cIs</td>\n",
       "      <td>m</td>\n",
       "      <td>835.83</td>\n",
       "      <td>UCCXKRG3s-auYMFIAKjeey_Q</td>\n",
       "      <td>welcome back to another video today I'm gonna ...</td>\n",
       "      <td>[{'text': \"welcome back to another video today...</td>\n",
       "    </tr>\n",
       "    <tr>\n",
       "      <th>3</th>\n",
       "      <td>3</td>\n",
       "      <td>depression</td>\n",
       "      <td>gxZjgt3Gnug</td>\n",
       "      <td>m</td>\n",
       "      <td>420.61</td>\n",
       "      <td>UCuhfaNXfRLFfVVc6dSNoyhA</td>\n",
       "      <td>hi everybody and welcome to and in the clouds ...</td>\n",
       "      <td>[{'text': 'hi everybody and welcome to and in ...</td>\n",
       "    </tr>\n",
       "    <tr>\n",
       "      <th>4</th>\n",
       "      <td>4</td>\n",
       "      <td>depression</td>\n",
       "      <td>oc72xdTxJ50</td>\n",
       "      <td>f</td>\n",
       "      <td>444.55</td>\n",
       "      <td>UCbiKXPwk590XYYqqCEbtgoA</td>\n",
       "      <td>Hey, Hey Me and my crown Me and my hairy hair ...</td>\n",
       "      <td>[{'text': 'Hey, Hey', 'start': 1.04, 'duration...</td>\n",
       "    </tr>\n",
       "  </tbody>\n",
       "</table>\n",
       "</div>"
      ],
      "text/plain": [
       "   video_id       label          key gender  duration  \\\n",
       "0         0  depression  2s3EFyjUmfs      f    823.31   \n",
       "1         1  depression  MCaKQvEofrE      f    436.65   \n",
       "2         2  depression  6o-DlNR_cIs      m    835.83   \n",
       "3         3  depression  gxZjgt3Gnug      m    420.61   \n",
       "4         4  depression  oc72xdTxJ50      f    444.55   \n",
       "\n",
       "                  channelId  \\\n",
       "0  UCWx_Fqt2AziUyAHVjgUH1PQ   \n",
       "1  UCxxhKhiRPfPe_U78ao3FKLw   \n",
       "2  UCCXKRG3s-auYMFIAKjeey_Q   \n",
       "3  UCuhfaNXfRLFfVVc6dSNoyhA   \n",
       "4  UCbiKXPwk590XYYqqCEbtgoA   \n",
       "\n",
       "                                          transcript  \\\n",
       "0  so I wanted to come on here and sit down with ...   \n",
       "1  hello guys it's me again and i'm going to talk...   \n",
       "2  welcome back to another video today I'm gonna ...   \n",
       "3  hi everybody and welcome to and in the clouds ...   \n",
       "4  Hey, Hey Me and my crown Me and my hairy hair ...   \n",
       "\n",
       "                                transcript annotated  \n",
       "0  [{'text': 'so I wanted to come on here and sit...  \n",
       "1  [{'text': 'hello guys', 'start': 9.599, 'durat...  \n",
       "2  [{'text': \"welcome back to another video today...  \n",
       "3  [{'text': 'hi everybody and welcome to and in ...  \n",
       "4  [{'text': 'Hey, Hey', 'start': 1.04, 'duration...  "
      ]
     },
     "execution_count": 23,
     "metadata": {},
     "output_type": "execute_result"
    }
   ],
   "source": [
    "# load in the data from the excel file\n",
    "df_data = pd.read_excel(\"../data/dvlog_transcripts.xlsx\")\n",
    "print(len(df_data))\n",
    "df_data.head()"
   ]
  },
  {
   "cell_type": "code",
   "execution_count": 24,
   "id": "dd11e9b9-d650-4b2b-9bc2-a981430004d7",
   "metadata": {
    "tags": []
   },
   "outputs": [
    {
     "data": {
      "text/plain": [
       "827"
      ]
     },
     "execution_count": 24,
     "metadata": {},
     "output_type": "execute_result"
    }
   ],
   "source": [
    "# video_dir = r\"../data/dvlog_videos\"\n",
    "video_dir = r\"E:\\Master\\dvlog_videos\"\n",
    "\n",
    "# get the id's of the videos that we managed to download\n",
    "videos_list = sorted([int(x.split(\"_\")[0]) for x in os.listdir(video_dir)])\n",
    "len([x for x in range(0, 961) if x in videos_list])"
   ]
  },
  {
   "cell_type": "code",
   "execution_count": 25,
   "id": "b4260d01-01c9-4420-97ef-39ec82b7cd15",
   "metadata": {
    "tags": []
   },
   "outputs": [
    {
     "data": {
      "text/plain": [
       "796"
      ]
     },
     "execution_count": 25,
     "metadata": {},
     "output_type": "execute_result"
    }
   ],
   "source": [
    "# filter out the videos without a transcript\n",
    "transcripts_list = df_data[df_data[\"transcript\"] != \"transcript not available anymore\"][\"video_id\"]\n",
    "len(transcripts_list)"
   ]
  },
  {
   "cell_type": "code",
   "execution_count": 26,
   "id": "a25e2705-d2b9-44cb-bbff-23be6120a8fc",
   "metadata": {},
   "outputs": [
    {
     "name": "stdout",
     "output_type": "stream",
     "text": [
      "Intersection: 783\n",
      "Difference videos and transcripts: 44\n",
      "Difference transcripts and videos: 13\n"
     ]
    }
   ],
   "source": [
    "# check the overlap between the videos and transcripts\n",
    "print(f\"Intersection: {len(set(transcripts_list) & set(videos_list))}\")\n",
    "\n",
    "# check the difference between videos and transcripts (only exist in videos set and not in transcripts)\n",
    "print(f\"Difference videos and transcripts: {len(set(videos_list).difference(set(transcripts_list)))}\")\n",
    "\n",
    "# check the difference between transcripts and videos (only exist in transcripts set and not in videos)\n",
    "print(f\"Difference transcripts and videos: {len(set(transcripts_list).difference(set(videos_list)))}\")"
   ]
  },
  {
   "cell_type": "markdown",
   "id": "bdda8fe3-1088-4a87-ae47-ca07ee384c83",
   "metadata": {},
   "source": [
    "### build the alternate dataset"
   ]
  },
  {
   "cell_type": "code",
   "execution_count": 27,
   "id": "a24981f9-08e8-4bdc-b5b2-761e26de1146",
   "metadata": {},
   "outputs": [
    {
     "name": "stdout",
     "output_type": "stream",
     "text": [
      "578 165 84\n"
     ]
    }
   ],
   "source": [
    "# filter on columns for which we have the actual videos\n",
    "df_data = df_data[df_data[\"video_id\"].isin(videos_list)]\n",
    "\n",
    "# create a new column that is a concatenation of the values in your other columns and stratify on the new column\n",
    "# https://stackoverflow.com/questions/45516424/sklearn-train-test-split-on-pandas-stratify-by-multiple-columns\n",
    "df_data[\"strat\"] = df_data[\"label\"].astype(str) + \"_\" + df_data[\"gender\"].astype(str)\n",
    "\n",
    "# train, val, test sets with 7:1:2 ratio\n",
    "# split the train set from the other sets\n",
    "df_train, df_test = train_test_split(df_data, test_size=0.3, random_state=seed, stratify=df_data[['strat']])\n",
    "\n",
    "# split the sets into a validation and trainset\n",
    "df_val, df_test = train_test_split(df_test, test_size=0.66, random_state=seed, stratify=df_test[['strat']])\n",
    "print(len(df_train), len(df_test), len(df_val))"
   ]
  },
  {
   "cell_type": "code",
   "execution_count": 28,
   "id": "265a871e-366d-4b5a-a66d-2cec68a4afa5",
   "metadata": {},
   "outputs": [
    {
     "name": "stdout",
     "output_type": "stream",
     "text": [
      "Overlap between Train and Val 10\n",
      "Overlap between Train and Test 23\n",
      "Overlap between Val and Test 8\n"
     ]
    }
   ],
   "source": [
    "# get the overlap between the folds\n",
    "print(f\"Overlap between Train and Val {len(set(df_train['channelId'].values).intersection(set(df_val['channelId'].values)))}\")\n",
    "print(f\"Overlap between Train and Test {len(set(df_train['channelId'].values).intersection(set(df_test['channelId'].values)))}\")\n",
    "print(f\"Overlap between Val and Test {len(set(df_val['channelId'].values).intersection(set(df_test['channelId'].values)))}\")"
   ]
  },
  {
   "cell_type": "code",
   "execution_count": 29,
   "id": "ff48ec4a-b4b8-4e8a-b02a-72747c745133",
   "metadata": {},
   "outputs": [
    {
     "name": "stdout",
     "output_type": "stream",
     "text": [
      "578 165 84\n"
     ]
    }
   ],
   "source": [
    "def remove_duplicates(df1, df2, choices):\n",
    "    # for each overlap with the validation and test set, pick one of the duplicates of those sets\n",
    "    # and switch them with a similar example so the stratification holds\n",
    "    orig_df = df1.copy()\n",
    "    filter_df = df2.copy()\n",
    "    unique_choices = choices.copy()\n",
    "\n",
    "    # get the overlapping channels\n",
    "    overlapping = set(orig_df['channelId'].values).intersection(set(filter_df['channelId'].values))\n",
    "\n",
    "    for overlap in overlapping:\n",
    "        # go over each duplicate row and select it\n",
    "        dupl_row = filter_df[filter_df[\"channelId\"] == overlap]\n",
    "\n",
    "        # since some rows come from the same channel, we loop over the amount of rows we selected\n",
    "        for x in range(len(dupl_row)):\n",
    "            # get the current row\n",
    "            curr_row = dupl_row.iloc[x]\n",
    "\n",
    "            # get the stratification value from the current row\n",
    "            strat_value, row_index = curr_row[\"strat\"], curr_row[\"video_id\"]\n",
    "            # print(strat_value, row_index)\n",
    "\n",
    "            # randomly select a row to switch with\n",
    "            selected = unique_choices[unique_choices[\"strat\"] == strat_value].sample(n=1, random_state=seed)\n",
    "            \n",
    "            # do the switch and update both dataframes\n",
    "            # insert the selected row from the train set into the test set and remove it from the train set\n",
    "            filter_df = pd.concat([filter_df, selected], ignore_index=False)\n",
    "            orig_df.drop(index=selected[\"video_id\"], inplace=True)\n",
    "            # print(f\"Overlap between Train and dataset {len(set(orig_df['channelId'].values).intersection(set(filter_df['channelId'].values)))}\")\n",
    "\n",
    "            # insert the row from the test set into the train set and remove it from the test set\n",
    "            orig_df.loc[row_index] = curr_row\n",
    "            filter_df.drop(index=row_index, inplace=True)\n",
    "\n",
    "            # Remove the chosen unique row from the available choices since it is swapped\n",
    "            unique_choices.drop(index=selected[\"video_id\"], inplace=True)\n",
    "\n",
    "    return orig_df, filter_df, unique_choices\n",
    "\n",
    "\n",
    "# get all unique channels which only consist of one channel\n",
    "uniq_channels = df_data.groupby(\"channelId\").filter(lambda x: len(x) == 1)\n",
    "\n",
    "# filter from the training set these channels\n",
    "training_uniques = df_train[df_train[\"channelId\"].isin(uniq_channels[\"channelId\"])]\n",
    "\n",
    "# remove the duplicates between the train and test set\n",
    "df_train, df_test, new_uniques = remove_duplicates(df_train, df_test, training_uniques)\n",
    "# remove the duplicates between the train and validation set\n",
    "df_train, df_val, _ = remove_duplicates(df_train, df_val, new_uniques)\n",
    "\n",
    "# filter from the test set the unique channels\n",
    "test_uniques = df_test[df_test[\"channelId\"].isin(uniq_channels[\"channelId\"])]\n",
    "# remove the duplicates between the test and validation set\n",
    "df_test, df_val, _ = remove_duplicates(df_test, df_val, test_uniques)\n",
    "\n",
    "print(len(df_train), len(df_test), len(df_val))"
   ]
  },
  {
   "cell_type": "code",
   "execution_count": 30,
   "id": "33e291ce-b8c2-4aa0-a2f9-6997e8d1bf90",
   "metadata": {},
   "outputs": [
    {
     "name": "stdout",
     "output_type": "stream",
     "text": [
      "Overlap between Train and Val 0\n",
      "Overlap between Train and Test 0\n",
      "Overlap between Val and Test 0\n"
     ]
    }
   ],
   "source": [
    "# get the overlap between the folds\n",
    "print(f\"Overlap between Train and Val {len(set(df_train['channelId'].values).intersection(set(df_val['channelId'].values)))}\")\n",
    "print(f\"Overlap between Train and Test {len(set(df_train['channelId'].values).intersection(set(df_test['channelId'].values)))}\")\n",
    "print(f\"Overlap between Val and Test {len(set(df_val['channelId'].values).intersection(set(df_test['channelId'].values)))}\")"
   ]
  },
  {
   "cell_type": "code",
   "execution_count": 31,
   "id": "a59b58af-8932-4f5a-b379-18153151320b",
   "metadata": {},
   "outputs": [
    {
     "data": {
      "text/html": [
       "<div>\n",
       "<style scoped>\n",
       "    .dataframe tbody tr th:only-of-type {\n",
       "        vertical-align: middle;\n",
       "    }\n",
       "\n",
       "    .dataframe tbody tr th {\n",
       "        vertical-align: top;\n",
       "    }\n",
       "\n",
       "    .dataframe thead th {\n",
       "        text-align: right;\n",
       "    }\n",
       "</style>\n",
       "<table border=\"1\" class=\"dataframe\">\n",
       "  <thead>\n",
       "    <tr style=\"text-align: right;\">\n",
       "      <th></th>\n",
       "      <th>video_id</th>\n",
       "      <th>label</th>\n",
       "      <th>gender</th>\n",
       "      <th>dataset</th>\n",
       "    </tr>\n",
       "  </thead>\n",
       "  <tbody>\n",
       "    <tr>\n",
       "      <th>0</th>\n",
       "      <td>0</td>\n",
       "      <td>1</td>\n",
       "      <td>f</td>\n",
       "      <td>train</td>\n",
       "    </tr>\n",
       "    <tr>\n",
       "      <th>1</th>\n",
       "      <td>1</td>\n",
       "      <td>1</td>\n",
       "      <td>f</td>\n",
       "      <td>test</td>\n",
       "    </tr>\n",
       "    <tr>\n",
       "      <th>2</th>\n",
       "      <td>2</td>\n",
       "      <td>1</td>\n",
       "      <td>m</td>\n",
       "      <td>train</td>\n",
       "    </tr>\n",
       "    <tr>\n",
       "      <th>3</th>\n",
       "      <td>3</td>\n",
       "      <td>1</td>\n",
       "      <td>m</td>\n",
       "      <td>train</td>\n",
       "    </tr>\n",
       "    <tr>\n",
       "      <th>4</th>\n",
       "      <td>4</td>\n",
       "      <td>1</td>\n",
       "      <td>f</td>\n",
       "      <td>test</td>\n",
       "    </tr>\n",
       "  </tbody>\n",
       "</table>\n",
       "</div>"
      ],
      "text/plain": [
       "   video_id  label gender dataset\n",
       "0         0      1      f   train\n",
       "1         1      1      f    test\n",
       "2         2      1      m   train\n",
       "3         3      1      m   train\n",
       "4         4      1      f    test"
      ]
     },
     "execution_count": 31,
     "metadata": {},
     "output_type": "execute_result"
    }
   ],
   "source": [
    "df_dvlog = df_data.copy(deep=True)\n",
    "\n",
    "# remove not needed columns\n",
    "df_dvlog.drop([\"transcript\", \"transcript annotated\", \"strat\", \"channelId\", \"key\", \"duration\"], axis=1, inplace=True)\n",
    "\n",
    "# set the label where 1 = depression and 0 = normal\n",
    "df_dvlog[\"label\"] = np.where(df_dvlog[\"label\"] == \"depression\", 1, 0)\n",
    "\n",
    "# set which dataset each row belongs to\n",
    "df_dvlog[\"dataset\"] = None\n",
    "df_dvlog.loc[df_train.index, \"dataset\"] = \"train\"\n",
    "df_dvlog.loc[df_test.index, \"dataset\"] = \"test\"\n",
    "df_dvlog.loc[df_val.index, \"dataset\"] = \"val\"\n",
    "\n",
    "df_dvlog.head()"
   ]
  },
  {
   "cell_type": "code",
   "execution_count": 33,
   "id": "169aea10-7432-4383-85a0-01e0976bae23",
   "metadata": {},
   "outputs": [],
   "source": [
    "# save the dataset\n",
    "df_dvlog.to_csv(\"../dvlog/dataset/dvlog_labels_v2.csv\", index=False)"
   ]
  }
 ],
 "metadata": {
  "kernelspec": {
   "display_name": "Python 3 (ipykernel)",
   "language": "python",
   "name": "python3"
  },
  "language_info": {
   "codemirror_mode": {
    "name": "ipython",
    "version": 3
   },
   "file_extension": ".py",
   "mimetype": "text/x-python",
   "name": "python",
   "nbconvert_exporter": "python",
   "pygments_lexer": "ipython3",
   "version": "3.11.7"
  }
 },
 "nbformat": 4,
 "nbformat_minor": 5
}
