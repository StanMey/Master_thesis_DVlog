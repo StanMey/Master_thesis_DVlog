{
 "cells": [
  {
   "cell_type": "markdown",
   "id": "5782515b-c99c-40ab-b967-2495e86cb448",
   "metadata": {},
   "source": []
  },
  {
   "cell_type": "code",
   "execution_count": 68,
   "id": "2fba06d2-4ad7-41c2-8a36-e1794ead9334",
   "metadata": {},
   "outputs": [],
   "source": [
    "import warnings\n",
    "warnings.filterwarnings('ignore')\n",
    "\n",
    "import pandas as pd\n",
    "import numpy as np\n",
    "\n",
    "from sklearn.model_selection import train_test_split\n",
    "\n",
    "seed = 42"
   ]
  },
  {
   "cell_type": "markdown",
   "id": "e62c3128-5110-46db-bccb-44fca59125cc",
   "metadata": {},
   "source": []
  },
  {
   "cell_type": "code",
   "execution_count": 59,
   "id": "ebe77130-8d50-45b8-8ee1-cd7485a49350",
   "metadata": {},
   "outputs": [
    {
     "data": {
      "text/html": [
       "<div>\n",
       "<style scoped>\n",
       "    .dataframe tbody tr th:only-of-type {\n",
       "        vertical-align: middle;\n",
       "    }\n",
       "\n",
       "    .dataframe tbody tr th {\n",
       "        vertical-align: top;\n",
       "    }\n",
       "\n",
       "    .dataframe thead th {\n",
       "        text-align: right;\n",
       "    }\n",
       "</style>\n",
       "<table border=\"1\" class=\"dataframe\">\n",
       "  <thead>\n",
       "    <tr style=\"text-align: right;\">\n",
       "      <th></th>\n",
       "      <th>video_id</th>\n",
       "      <th>label</th>\n",
       "      <th>key</th>\n",
       "      <th>gender</th>\n",
       "      <th>duration</th>\n",
       "      <th>channelId</th>\n",
       "      <th>transcript</th>\n",
       "      <th>transcript annotated</th>\n",
       "    </tr>\n",
       "  </thead>\n",
       "  <tbody>\n",
       "    <tr>\n",
       "      <th>0</th>\n",
       "      <td>0</td>\n",
       "      <td>depression</td>\n",
       "      <td>2s3EFyjUmfs</td>\n",
       "      <td>f</td>\n",
       "      <td>823.31</td>\n",
       "      <td>UCWx_Fqt2AziUyAHVjgUH1PQ</td>\n",
       "      <td>so I wanted to come on here and sit down with ...</td>\n",
       "      <td>[{'text': 'so I wanted to come on here and sit...</td>\n",
       "    </tr>\n",
       "    <tr>\n",
       "      <th>1</th>\n",
       "      <td>1</td>\n",
       "      <td>depression</td>\n",
       "      <td>MCaKQvEofrE</td>\n",
       "      <td>f</td>\n",
       "      <td>436.65</td>\n",
       "      <td>UCxxhKhiRPfPe_U78ao3FKLw</td>\n",
       "      <td>hello guys it's me again and i'm going to talk...</td>\n",
       "      <td>[{'text': 'hello guys', 'start': 9.599, 'durat...</td>\n",
       "    </tr>\n",
       "    <tr>\n",
       "      <th>2</th>\n",
       "      <td>2</td>\n",
       "      <td>depression</td>\n",
       "      <td>6o-DlNR_cIs</td>\n",
       "      <td>m</td>\n",
       "      <td>835.83</td>\n",
       "      <td>UCCXKRG3s-auYMFIAKjeey_Q</td>\n",
       "      <td>welcome back to another video today I'm gonna ...</td>\n",
       "      <td>[{'text': \"welcome back to another video today...</td>\n",
       "    </tr>\n",
       "    <tr>\n",
       "      <th>3</th>\n",
       "      <td>3</td>\n",
       "      <td>depression</td>\n",
       "      <td>gxZjgt3Gnug</td>\n",
       "      <td>m</td>\n",
       "      <td>420.61</td>\n",
       "      <td>UCuhfaNXfRLFfVVc6dSNoyhA</td>\n",
       "      <td>hi everybody and welcome to and in the clouds ...</td>\n",
       "      <td>[{'text': 'hi everybody and welcome to and in ...</td>\n",
       "    </tr>\n",
       "    <tr>\n",
       "      <th>4</th>\n",
       "      <td>4</td>\n",
       "      <td>depression</td>\n",
       "      <td>oc72xdTxJ50</td>\n",
       "      <td>f</td>\n",
       "      <td>444.55</td>\n",
       "      <td>UCbiKXPwk590XYYqqCEbtgoA</td>\n",
       "      <td>Hey, Hey Me and my crown Me and my hairy hair ...</td>\n",
       "      <td>[{'text': 'Hey, Hey', 'start': 1.04, 'duration...</td>\n",
       "    </tr>\n",
       "  </tbody>\n",
       "</table>\n",
       "</div>"
      ],
      "text/plain": [
       "   video_id       label          key gender  duration  \\\n",
       "0         0  depression  2s3EFyjUmfs      f    823.31   \n",
       "1         1  depression  MCaKQvEofrE      f    436.65   \n",
       "2         2  depression  6o-DlNR_cIs      m    835.83   \n",
       "3         3  depression  gxZjgt3Gnug      m    420.61   \n",
       "4         4  depression  oc72xdTxJ50      f    444.55   \n",
       "\n",
       "                  channelId  \\\n",
       "0  UCWx_Fqt2AziUyAHVjgUH1PQ   \n",
       "1  UCxxhKhiRPfPe_U78ao3FKLw   \n",
       "2  UCCXKRG3s-auYMFIAKjeey_Q   \n",
       "3  UCuhfaNXfRLFfVVc6dSNoyhA   \n",
       "4  UCbiKXPwk590XYYqqCEbtgoA   \n",
       "\n",
       "                                          transcript  \\\n",
       "0  so I wanted to come on here and sit down with ...   \n",
       "1  hello guys it's me again and i'm going to talk...   \n",
       "2  welcome back to another video today I'm gonna ...   \n",
       "3  hi everybody and welcome to and in the clouds ...   \n",
       "4  Hey, Hey Me and my crown Me and my hairy hair ...   \n",
       "\n",
       "                                transcript annotated  \n",
       "0  [{'text': 'so I wanted to come on here and sit...  \n",
       "1  [{'text': 'hello guys', 'start': 9.599, 'durat...  \n",
       "2  [{'text': \"welcome back to another video today...  \n",
       "3  [{'text': 'hi everybody and welcome to and in ...  \n",
       "4  [{'text': 'Hey, Hey', 'start': 1.04, 'duration...  "
      ]
     },
     "execution_count": 59,
     "metadata": {},
     "output_type": "execute_result"
    }
   ],
   "source": [
    "# load in the data from the excel file\n",
    "df_data = pd.read_excel(\"../data/dvlog_transcripts.xlsx\")\n",
    "df_data.head()"
   ]
  },
  {
   "cell_type": "markdown",
   "id": "f84f6528-303e-4fd1-8ee5-87b2bfa17a9c",
   "metadata": {},
   "source": []
  },
  {
   "cell_type": "code",
   "execution_count": 60,
   "id": "6cbb36a0-dd80-4436-8a3d-5420ae1ce7a9",
   "metadata": {},
   "outputs": [
    {
     "name": "stdout",
     "output_type": "stream",
     "text": [
      "size: 961\n",
      "label\n",
      "depression    555\n",
      "normal        406\n",
      "Name: video_id, dtype: int64\n",
      "816\n"
     ]
    }
   ],
   "source": [
    "# filter out the videos without a transcript\n",
    "# df_data = df_data[df_data[\"transcript\"] != \"transcript not available anymore\"]\n",
    "\n",
    "# print the new sizes\n",
    "print(f\"size: {len(df_data)}\")\n",
    "print(df_data.groupby(\"label\").count()[\"video_id\"])\n",
    "\n",
    "print(len(df_data[\"channelId\"].unique()))"
   ]
  },
  {
   "cell_type": "code",
   "execution_count": 61,
   "id": "ee474418-19af-464b-a80a-026fc371f541",
   "metadata": {},
   "outputs": [
    {
     "name": "stdout",
     "output_type": "stream",
     "text": [
      "672 191 98\n"
     ]
    }
   ],
   "source": [
    "# create a new column that is a concatenation of the values in your other columns and stratify on the new column\n",
    "# https://stackoverflow.com/questions/45516424/sklearn-train-test-split-on-pandas-stratify-by-multiple-columns\n",
    "df_data[\"strat\"] = df_data[\"label\"].astype(str) + \"_\" + df_data[\"gender\"].astype(str)\n",
    "\n",
    "# train, val, test sets with 7:1:2 ratio\n",
    "# split the train set from the other sets\n",
    "df_train, df_test = train_test_split(df_data, test_size=0.3, random_state=seed, stratify=df_data[['strat']])\n",
    "\n",
    "# split the sets into a validation and trainset\n",
    "df_val, df_test = train_test_split(df_test, test_size=0.66, random_state=seed, stratify=df_test[['strat']])\n",
    "print(len(df_train), len(df_test), len(df_val))"
   ]
  },
  {
   "cell_type": "code",
   "execution_count": 62,
   "id": "2513d03c-8607-471b-bc4f-c7cf729a09cd",
   "metadata": {},
   "outputs": [
    {
     "data": {
      "text/plain": [
       "label       gender\n",
       "depression  f         261\n",
       "            m         127\n",
       "normal      f         186\n",
       "            m          98\n",
       "Name: strat, dtype: int64"
      ]
     },
     "execution_count": 62,
     "metadata": {},
     "output_type": "execute_result"
    }
   ],
   "source": [
    "df_train.groupby([\"label\", \"gender\"]).count()[\"strat\"]"
   ]
  },
  {
   "cell_type": "code",
   "execution_count": 63,
   "id": "633e7619-05b4-4821-bbad-484f887c7555",
   "metadata": {},
   "outputs": [
    {
     "data": {
      "text/plain": [
       "label       gender\n",
       "depression  f         74\n",
       "            m         36\n",
       "normal      f         53\n",
       "            m         28\n",
       "Name: strat, dtype: int64"
      ]
     },
     "execution_count": 63,
     "metadata": {},
     "output_type": "execute_result"
    }
   ],
   "source": [
    "df_test.groupby([\"label\", \"gender\"]).count()[\"strat\"]"
   ]
  },
  {
   "cell_type": "code",
   "execution_count": 64,
   "id": "8adbff63-30a8-4076-ae68-99e021e28aca",
   "metadata": {},
   "outputs": [
    {
     "data": {
      "text/plain": [
       "label       gender\n",
       "depression  f         38\n",
       "            m         19\n",
       "normal      f         27\n",
       "            m         14\n",
       "Name: strat, dtype: int64"
      ]
     },
     "execution_count": 64,
     "metadata": {},
     "output_type": "execute_result"
    }
   ],
   "source": [
    "df_val.groupby([\"label\", \"gender\"]).count()[\"strat\"]"
   ]
  },
  {
   "cell_type": "code",
   "execution_count": 65,
   "id": "7b8ccb38-2233-45a8-852e-4067c722a2c6",
   "metadata": {},
   "outputs": [],
   "source": [
    "# set(df_train['channelId'].values).intersection(set(df_test['channelId'].values))"
   ]
  },
  {
   "cell_type": "markdown",
   "id": "ba9cddb0-939c-4204-b1d4-2a87053f0530",
   "metadata": {},
   "source": [
    "Build it back into one dvlog csv file so the dataloader has easy access to the data."
   ]
  },
  {
   "cell_type": "code",
   "execution_count": 79,
   "id": "b009ecfd-e635-42d0-8083-a604c973b11b",
   "metadata": {},
   "outputs": [
    {
     "data": {
      "text/html": [
       "<div>\n",
       "<style scoped>\n",
       "    .dataframe tbody tr th:only-of-type {\n",
       "        vertical-align: middle;\n",
       "    }\n",
       "\n",
       "    .dataframe tbody tr th {\n",
       "        vertical-align: top;\n",
       "    }\n",
       "\n",
       "    .dataframe thead th {\n",
       "        text-align: right;\n",
       "    }\n",
       "</style>\n",
       "<table border=\"1\" class=\"dataframe\">\n",
       "  <thead>\n",
       "    <tr style=\"text-align: right;\">\n",
       "      <th></th>\n",
       "      <th>video_id</th>\n",
       "      <th>label</th>\n",
       "      <th>gender</th>\n",
       "      <th>dataset</th>\n",
       "    </tr>\n",
       "  </thead>\n",
       "  <tbody>\n",
       "    <tr>\n",
       "      <th>0</th>\n",
       "      <td>0</td>\n",
       "      <td>1</td>\n",
       "      <td>f</td>\n",
       "      <td>train</td>\n",
       "    </tr>\n",
       "    <tr>\n",
       "      <th>1</th>\n",
       "      <td>1</td>\n",
       "      <td>1</td>\n",
       "      <td>f</td>\n",
       "      <td>test</td>\n",
       "    </tr>\n",
       "    <tr>\n",
       "      <th>2</th>\n",
       "      <td>2</td>\n",
       "      <td>1</td>\n",
       "      <td>m</td>\n",
       "      <td>train</td>\n",
       "    </tr>\n",
       "    <tr>\n",
       "      <th>3</th>\n",
       "      <td>3</td>\n",
       "      <td>1</td>\n",
       "      <td>m</td>\n",
       "      <td>train</td>\n",
       "    </tr>\n",
       "    <tr>\n",
       "      <th>4</th>\n",
       "      <td>4</td>\n",
       "      <td>1</td>\n",
       "      <td>f</td>\n",
       "      <td>train</td>\n",
       "    </tr>\n",
       "  </tbody>\n",
       "</table>\n",
       "</div>"
      ],
      "text/plain": [
       "   video_id  label gender dataset\n",
       "0         0      1      f   train\n",
       "1         1      1      f    test\n",
       "2         2      1      m   train\n",
       "3         3      1      m   train\n",
       "4         4      1      f   train"
      ]
     },
     "execution_count": 79,
     "metadata": {},
     "output_type": "execute_result"
    }
   ],
   "source": [
    "df_dvlog = df_data.copy(deep=True)\n",
    "\n",
    "# remove not needed columns\n",
    "df_dvlog.drop([\"transcript\", \"transcript annotated\", \"strat\", \"channelId\", \"key\", \"duration\"], axis=1, inplace=True)\n",
    "\n",
    "# set the label where 1 = depression and 0 = normal\n",
    "df_dvlog[\"label\"] = np.where(df_dvlog[\"label\"] == \"depression\", 1, 0)\n",
    "\n",
    "# set which dataset each row belongs to\n",
    "df_dvlog[\"dataset\"] = None\n",
    "df_dvlog.loc[df_train.index, \"dataset\"] = \"train\"\n",
    "df_dvlog.loc[df_test.index, \"dataset\"] = \"test\"\n",
    "df_dvlog.loc[df_val.index, \"dataset\"] = \"val\"\n",
    "\n",
    "df_dvlog.head()"
   ]
  },
  {
   "cell_type": "code",
   "execution_count": 80,
   "id": "e5d0783a-bd11-495d-b910-46dc9af80dd7",
   "metadata": {},
   "outputs": [],
   "source": [
    "# save the dataset\n",
    "df_dvlog.to_csv(\"../dvlog/dataset/dvlog_dataset.csv\", index=False)"
   ]
  }
 ],
 "metadata": {
  "kernelspec": {
   "display_name": "Python 3 (ipykernel)",
   "language": "python",
   "name": "python3"
  },
  "language_info": {
   "codemirror_mode": {
    "name": "ipython",
    "version": 3
   },
   "file_extension": ".py",
   "mimetype": "text/x-python",
   "name": "python",
   "nbconvert_exporter": "python",
   "pygments_lexer": "ipython3",
   "version": "3.11.7"
  }
 },
 "nbformat": 4,
 "nbformat_minor": 5
}
