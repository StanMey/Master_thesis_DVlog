{
 "cells": [
  {
   "cell_type": "markdown",
   "id": "58e3465a-6bda-4116-aef5-ff83b826d410",
   "metadata": {},
   "source": [
    "# Dataset and Feature importance analysis\n"
   ]
  },
  {
   "cell_type": "code",
   "execution_count": null,
   "id": "e7c5e9a4-a8bd-4ebb-871d-e77136609354",
   "metadata": {
    "tags": []
   },
   "outputs": [],
   "source": [
    "import warnings\n",
    "warnings.filterwarnings('ignore')\n",
    "\n",
    "import json\n",
    "import string\n",
    "import time\n",
    "import math\n",
    "import os\n",
    "\n",
    "import pandas as pd\n",
    "import numpy as np\n",
    "import statistics as stats\n",
    "import matplotlib.pyplot as plt\n",
    "import seaborn as sns\n",
    "sns.set_theme()\n",
    "\n",
    "from pathlib import Path"
   ]
  },
  {
   "cell_type": "code",
   "execution_count": null,
   "id": "9400f71c-8eea-432f-b599-49f43ffebfd7",
   "metadata": {
    "tags": []
   },
   "outputs": [],
   "source": [
    "annotations_file1 = Path(r\"../DVlog/dataset/dvlog_labels_v1.csv\")\n",
    "annotations_file2 = Path(r\"../DVlog/dataset/dvlog_labels_v2.csv\")\n",
    "durations_file = Path(r\"../data/dvlog_transcripts.xlsx\")\n",
    "\n",
    "pdem_features_path = Path(r\"E:/master/data/PDEM/pdem-dataset\")\n",
    "text_embeddings_path = Path(r\"E:/master/data/embeddings-dataset\")"
   ]
  },
  {
   "cell_type": "code",
   "execution_count": null,
   "id": "99555515-512f-40fa-91bb-12b75ee22f5d",
   "metadata": {
    "tags": []
   },
   "outputs": [],
   "source": [
    "# load in both the annotation labels\n",
    "df_annotv1 = pd.read_csv(annotations_file1)\n",
    "df_annotv2 = pd.read_csv(annotations_file2)\n",
    "\n",
    "df_annotv2.head()"
   ]
  },
  {
   "cell_type": "markdown",
   "id": "9e224a2b-ea59-4654-bab1-82b3a091a53b",
   "metadata": {},
   "source": [
    "## Descriptive statistics of the D-Vlog dataset"
   ]
  },
  {
   "cell_type": "code",
   "execution_count": null,
   "id": "b3b1d639-899d-4963-9f9c-5d8cf7c0410d",
   "metadata": {},
   "outputs": [],
   "source": [
    "df_durations = pd.read_excel(durations_file)\n",
    "\n",
    "# do the merge on video_id and duration\n",
    "df_timev2 = pd.merge(df_annotv2, df_durations[[\"video_id\", \"duration\"]], on=\"video_id\", how=\"left\")\n",
    "df_timev2.head()"
   ]
  },
  {
   "cell_type": "code",
   "execution_count": null,
   "id": "c89f8c5f-3b66-4d86-abfa-45812d07b68c",
   "metadata": {},
   "outputs": [],
   "source": [
    "df_timev2.groupby([\"label\", \"gender\"]).agg({\"dataset\": \"count\", \"duration\": \"mean\"})"
   ]
  },
  {
   "cell_type": "code",
   "execution_count": null,
   "id": "fb7c709d-f7c6-4880-ac16-3083cfcc575f",
   "metadata": {},
   "outputs": [],
   "source": [
    "# plot both the cumulative distributions before and after filtering for both the labels\n",
    "# get the durations of the original dataset\n",
    "df_timev1 = pd.merge(df_annotv1, df_durations[[\"video_id\", \"duration\"]], on=\"video_id\", how=\"left\")\n",
    "\n",
    "title_size = 14\n",
    "sup_title_size = 10\n",
    "\n",
    "# build the plot\n",
    "fig = plt.figure(figsize=(8, 4))\n",
    "axs = fig.subplots(1, 2, sharex=True, sharey=True)\n",
    "\n",
    "# plot the difference between the depressive original and v2\n",
    "axs[0].set_title(\"Depression vlogs\", size=sup_title_size)\n",
    "axs[0].ecdf(df_timev1[df_timev1[\"label\"] == 1][\"duration\"], label=\"original\")\n",
    "axs[0].ecdf(df_timev2[df_timev2[\"label\"] == 1][\"duration\"], label=\"v2\")\n",
    "axs[0].legend(loc=4)\n",
    "\n",
    "# plot the difference between the non-depressive original and v2\n",
    "axs[1].set_title(\"Non-depression vlogs\", size=sup_title_size)\n",
    "axs[1].ecdf(df_timev1[df_timev1[\"label\"] == 0][\"duration\"], label=\"original\")\n",
    "axs[1].ecdf(df_timev2[df_timev2[\"label\"] == 0][\"duration\"], label=\"v2\")\n",
    "axs[1].legend(loc=4)\n",
    "\n",
    "#\n",
    "fig.supxlabel('Duration (in seconds) of vlogs', size=sup_title_size)\n",
    "fig.supylabel('Cummulative distribution of vlog durations', size=sup_title_size, x=.04)\n",
    "fig.suptitle(\"Distributions of vlog duration between the original and v2 datasets\", size=title_size, y=1.0)\n",
    "\n",
    "# save the figure and show it\n",
    "plt.savefig(\"../figures/vlog_duration_dist.eps\")\n",
    "plt.show()"
   ]
  },
  {
   "cell_type": "markdown",
   "id": "1eacfd7a-c2f5-42cf-924f-1587402e9767",
   "metadata": {},
   "source": [
    "## Descriptive statistics of the train, test and validation sets"
   ]
  },
  {
   "cell_type": "code",
   "execution_count": null,
   "id": "f7d01fe9-877d-463e-afba-b442f6213fc3",
   "metadata": {
    "tags": []
   },
   "outputs": [],
   "source": [
    "df_annotv1.groupby([\"dataset\", \"gender\"]).count()"
   ]
  },
  {
   "cell_type": "code",
   "execution_count": null,
   "id": "0eebd0ea-dac3-4319-bb30-fd0135a1f3ff",
   "metadata": {
    "tags": []
   },
   "outputs": [],
   "source": [
    "df_annotv2.groupby([\"dataset\", \"gender\"]).count()"
   ]
  },
  {
   "cell_type": "markdown",
   "id": "d7fec361-7a5b-4a12-834b-c63a7cbba6b3",
   "metadata": {},
   "source": [
    "## Retrieve information regarding the PDEM features"
   ]
  },
  {
   "cell_type": "code",
   "execution_count": null,
   "id": "50319b90-6031-4792-93d4-4c76f24e70d7",
   "metadata": {},
   "outputs": [],
   "source": [
    "pdem_info_dict = {}\n",
    "\n",
    "for index, row in df_annotations.iterrows():\n",
    "\n",
    "    video_id = str(row.video_id)\n",
    "    vad_file_path = os.path.join(pdem_features_path, video_id, \"pdemvad.npy\")\n",
    "    embeddings = np.load(vad_file_path).astype(np.float32)\n",
    "\n",
    "    # save the info\n",
    "    pdem_info_dict[video_id] = {\n",
    "        \"embedding\": embeddings,\n",
    "        \"seq_length\": embeddings.shape[0],\n",
    "        \"arousal\": 1,\n",
    "        \"dominance\": 1,\n",
    "        \"valence\": 1\n",
    "    }"
   ]
  },
  {
   "cell_type": "code",
   "execution_count": null,
   "id": "00bb1fbb-cf82-4c7f-98c7-61280171e0b7",
   "metadata": {},
   "outputs": [],
   "source": [
    "# put the information back into the dataframe\n",
    "df_annotations[\"pdem_seq_length\"] = df_annotations[\"video_id\"].apply(lambda x: pdem_info_dict.get(str(x)).get(\"seq_length\"))\n",
    "\n",
    "print(f\"mean length: {df_annotations['pdem_seq_length'].mean()}\\nmax length: {df_annotations['pdem_seq_length'].max()}\")\n",
    "\n",
    "df_annotations.head()"
   ]
  },
  {
   "cell_type": "code",
   "execution_count": null,
   "id": "a87cf2da-48a2-45cc-b2e0-04949102603f",
   "metadata": {},
   "outputs": [],
   "source": [
    "# Get the distribution for both the male and female extracted features\n",
    "plt.figure()\n",
    "\n",
    "# plot the data\n",
    "sns.displot(df_annotations, x=\"pdem_seq_length\", hue=\"gender\", kind=\"kde\")\n",
    "\n",
    "# plot the vertical mean line\n",
    "x_mean = df_annotations['pdem_seq_length'].mean()\n",
    "plt.axvline(x_mean, color='r', ls='--', label=f\"μ pdem\")\n",
    "\n",
    "plt.legend()\n",
    "plt.show()"
   ]
  },
  {
   "cell_type": "markdown",
   "id": "a138a233-d9f3-47f2-bde8-a045c08444a2",
   "metadata": {},
   "source": [
    "## Retrieve and plot information regarding the word and sentence embeddings"
   ]
  },
  {
   "cell_type": "code",
   "execution_count": null,
   "id": "4ca40d95-13e6-4dc7-ad85-1cbc8aae9f17",
   "metadata": {},
   "outputs": [],
   "source": [
    "embed_info_dict = {}\n",
    "\n",
    "for index, row in df_annotations.iterrows():\n",
    "\n",
    "    video_id = str(row.video_id)\n",
    "    embeddings_file_path = os.path.join(text_embeddings_path, video_id)\n",
    "    embed_info_dict[video_id] = {\n",
    "        \"w2v_seconds\": np.load(os.path.join(embeddings_file_path, \"w2v_seconds_normal_avg.npy\")).astype(np.float32).shape[0],\n",
    "        \"w2v_sentences\": np.load(os.path.join(embeddings_file_path, \"w2v_seq_avg.npy\")).astype(np.float32).shape[0],\n",
    "        \"w2v_keywords\": np.load(os.path.join(embeddings_file_path, \"w2v_seq_avg_keyw.npy\")).astype(np.float32).shape[0]\n",
    "    }"
   ]
  },
  {
   "cell_type": "code",
   "execution_count": null,
   "id": "b02a3bd5-80b2-466d-9a64-3c81167f1214",
   "metadata": {},
   "outputs": [],
   "source": [
    "# put the features back into the dataframe\n",
    "df_annotations[\"w2v_seconds\"] = df_annotations[\"video_id\"].apply(lambda x: embed_info_dict.get(str(x)).get(\"w2v_seconds\"))\n",
    "df_annotations[\"w2v_sentences\"] = df_annotations[\"video_id\"].apply(lambda x: embed_info_dict.get(str(x)).get(\"w2v_sentences\"))\n",
    "df_annotations[\"w2v_keywords\"] = df_annotations[\"video_id\"].apply(lambda x: embed_info_dict.get(str(x)).get(\"w2v_keywords\"))\n",
    "\n",
    "df_annotations.head()"
   ]
  },
  {
   "cell_type": "code",
   "execution_count": null,
   "id": "45b7c22a-f8f3-40d2-859a-b1fea04736fc",
   "metadata": {},
   "outputs": [],
   "source": [
    "# Get the distribution for both the male and female extracted features\n",
    "mean_length = round(df_annotations['w2v_seconds'].mean(), 2)\n",
    "print(f\"mean length: {mean_length}\")\n",
    "\n",
    "plt.figure()\n",
    "\n",
    "# plot the data\n",
    "sns.displot(df_annotations, x=\"w2v_seconds\", hue=\"gender\", kind=\"kde\")\n",
    "\n",
    "# plot the vertical mean line\n",
    "x_mean = df_annotations['w2v_seconds'].mean()\n",
    "plt.axvline(x_mean, color='r', ls='--', label=f\"μ vlogs={mean_length}\")\n",
    "\n",
    "plt.legend()\n",
    "plt.show()"
   ]
  },
  {
   "cell_type": "code",
   "execution_count": null,
   "id": "ab55450a-84a6-4bc7-b50e-5059b2e1f540",
   "metadata": {},
   "outputs": [],
   "source": [
    "# get the length of the sentences with the mean per label and overall\n",
    "mean_length = round(df_annotations['w2v_sentences'].mean(), 2)\n",
    "gender_length = df_annotations.groupby([\"gender\"]).agg(avg_duration=(\"w2v_sentences\", \"mean\"))\n",
    "f_length, m_length = round(gender_length.loc[\"f\"][\"avg_duration\"], 2), round(gender_length.loc[\"m\"][\"avg_duration\"], 2)\n",
    "print(gender_length)\n",
    "# plot the figure\n",
    "plt.figure()\n",
    "\n",
    "# plot the data\n",
    "sns.displot(df_annotations, x=\"w2v_sentences\", hue=\"gender\", kind=\"kde\")\n",
    "\n",
    "# plot the vertical mean line\n",
    "plt.axvline(mean_length, color='r', ls='--', label=f\"μ vlogs={mean_length}\")\n",
    "plt.axvline(m_length, color='k', ls='-', label=f\"μ male vlogs={m_length}\")\n",
    "plt.axvline(f_length, color='m', ls='-', label=f\"μ female vlogs={f_length}\")\n",
    "\n",
    "plt.legend()\n",
    "plt.show()"
   ]
  },
  {
   "cell_type": "code",
   "execution_count": null,
   "id": "7d6ae8ba-8749-492c-a645-30655bce31fd",
   "metadata": {},
   "outputs": [],
   "source": [
    "# get the length of the sentences with the mean per label and overall\n",
    "norm_length, keyw_length = round(df_annotations['w2v_sentences'].mean(), 2), round(df_annotations['w2v_keywords'].mean(), 2)\n",
    "\n",
    "# plot the data\n",
    "plt.figure()\n",
    "\n",
    "sns.displot([df_annotations[\"w2v_sentences\"], df_annotations[\"w2v_keywords\"]], kind=\"kde\")\n",
    "# sns.displot(df_annotations, x=\"w2v_keywords\", kind=\"kde\")\n",
    "\n",
    "# plot the vertical mean line\n",
    "plt.axvline(norm_length, color='r', ls='--', label=f\"μ before={norm_length}\")\n",
    "plt.axvline(keyw_length, color='k', ls='-', label=f\"μ after={keyw_length}\")\n",
    "\n",
    "plt.legend()\n",
    "plt.show()"
   ]
  }
 ],
 "metadata": {
  "kernelspec": {
   "display_name": "Python 3 (ipykernel)",
   "language": "python",
   "name": "python3"
  },
  "language_info": {
   "codemirror_mode": {
    "name": "ipython",
    "version": 3
   },
   "file_extension": ".py",
   "mimetype": "text/x-python",
   "name": "python",
   "nbconvert_exporter": "python",
   "pygments_lexer": "ipython3",
   "version": "3.11.7"
  }
 },
 "nbformat": 4,
 "nbformat_minor": 5
}
