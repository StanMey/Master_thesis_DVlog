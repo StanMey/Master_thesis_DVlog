{
 "cells": [
  {
   "cell_type": "markdown",
   "id": "58e3465a-6bda-4116-aef5-ff83b826d410",
   "metadata": {},
   "source": [
    "# Dataset and Feature importance analysis\n"
   ]
  },
  {
   "cell_type": "code",
   "execution_count": 1,
   "id": "e7c5e9a4-a8bd-4ebb-871d-e77136609354",
   "metadata": {
    "tags": []
   },
   "outputs": [],
   "source": [
    "import warnings\n",
    "warnings.filterwarnings('ignore')\n",
    "\n",
    "import json\n",
    "import string\n",
    "import time\n",
    "import math\n",
    "import os\n",
    "\n",
    "import pandas as pd\n",
    "import numpy as np\n",
    "import statistics as stats\n",
    "import matplotlib.pyplot as plt\n",
    "import seaborn as sns\n",
    "sns.set_theme()\n",
    "\n",
    "from pathlib import Path"
   ]
  },
  {
   "cell_type": "code",
   "execution_count": 2,
   "id": "9400f71c-8eea-432f-b599-49f43ffebfd7",
   "metadata": {
    "tags": []
   },
   "outputs": [],
   "source": [
    "annotations_file1 = Path(r\"../DVlog/dataset/dvlog_labels_v1.csv\")\n",
    "annotations_file2 = Path(r\"../DVlog/dataset/dvlog_labels_v2.csv\")\n",
    "durations_file = Path(r\"../data/dvlog_transcripts.xlsx\")\n",
    "\n",
    "pdem_features_path = Path(r\"E:/master/data/PDEM/pdem-dataset\")\n",
    "text_embeddings_path = Path(r\"E:/master/data/embeddings-dataset\")"
   ]
  },
  {
   "cell_type": "code",
   "execution_count": 3,
   "id": "99555515-512f-40fa-91bb-12b75ee22f5d",
   "metadata": {
    "tags": []
   },
   "outputs": [
    {
     "data": {
      "text/html": [
       "<div>\n",
       "<style scoped>\n",
       "    .dataframe tbody tr th:only-of-type {\n",
       "        vertical-align: middle;\n",
       "    }\n",
       "\n",
       "    .dataframe tbody tr th {\n",
       "        vertical-align: top;\n",
       "    }\n",
       "\n",
       "    .dataframe thead th {\n",
       "        text-align: right;\n",
       "    }\n",
       "</style>\n",
       "<table border=\"1\" class=\"dataframe\">\n",
       "  <thead>\n",
       "    <tr style=\"text-align: right;\">\n",
       "      <th></th>\n",
       "      <th>video_id</th>\n",
       "      <th>label</th>\n",
       "      <th>gender</th>\n",
       "      <th>dataset</th>\n",
       "    </tr>\n",
       "  </thead>\n",
       "  <tbody>\n",
       "    <tr>\n",
       "      <th>0</th>\n",
       "      <td>0</td>\n",
       "      <td>1</td>\n",
       "      <td>f</td>\n",
       "      <td>train</td>\n",
       "    </tr>\n",
       "    <tr>\n",
       "      <th>1</th>\n",
       "      <td>1</td>\n",
       "      <td>1</td>\n",
       "      <td>f</td>\n",
       "      <td>test</td>\n",
       "    </tr>\n",
       "    <tr>\n",
       "      <th>2</th>\n",
       "      <td>2</td>\n",
       "      <td>1</td>\n",
       "      <td>m</td>\n",
       "      <td>train</td>\n",
       "    </tr>\n",
       "    <tr>\n",
       "      <th>3</th>\n",
       "      <td>3</td>\n",
       "      <td>1</td>\n",
       "      <td>m</td>\n",
       "      <td>train</td>\n",
       "    </tr>\n",
       "    <tr>\n",
       "      <th>4</th>\n",
       "      <td>4</td>\n",
       "      <td>1</td>\n",
       "      <td>f</td>\n",
       "      <td>test</td>\n",
       "    </tr>\n",
       "  </tbody>\n",
       "</table>\n",
       "</div>"
      ],
      "text/plain": [
       "   video_id  label gender dataset\n",
       "0         0      1      f   train\n",
       "1         1      1      f    test\n",
       "2         2      1      m   train\n",
       "3         3      1      m   train\n",
       "4         4      1      f    test"
      ]
     },
     "execution_count": 3,
     "metadata": {},
     "output_type": "execute_result"
    }
   ],
   "source": [
    "# load in both the annotation labels\n",
    "df_annotv1 = pd.read_csv(annotations_file1)\n",
    "df_annotv2 = pd.read_csv(annotations_file2)\n",
    "\n",
    "df_annotv2.head()"
   ]
  },
  {
   "cell_type": "markdown",
   "id": "9e224a2b-ea59-4654-bab1-82b3a091a53b",
   "metadata": {},
   "source": [
    "## Descriptive statistics of the D-Vlog dataset"
   ]
  },
  {
   "cell_type": "code",
   "execution_count": 4,
   "id": "b3b1d639-899d-4963-9f9c-5d8cf7c0410d",
   "metadata": {},
   "outputs": [
    {
     "data": {
      "text/html": [
       "<div>\n",
       "<style scoped>\n",
       "    .dataframe tbody tr th:only-of-type {\n",
       "        vertical-align: middle;\n",
       "    }\n",
       "\n",
       "    .dataframe tbody tr th {\n",
       "        vertical-align: top;\n",
       "    }\n",
       "\n",
       "    .dataframe thead th {\n",
       "        text-align: right;\n",
       "    }\n",
       "</style>\n",
       "<table border=\"1\" class=\"dataframe\">\n",
       "  <thead>\n",
       "    <tr style=\"text-align: right;\">\n",
       "      <th></th>\n",
       "      <th>video_id</th>\n",
       "      <th>label</th>\n",
       "      <th>gender</th>\n",
       "      <th>dataset</th>\n",
       "      <th>duration</th>\n",
       "    </tr>\n",
       "  </thead>\n",
       "  <tbody>\n",
       "    <tr>\n",
       "      <th>0</th>\n",
       "      <td>0</td>\n",
       "      <td>1</td>\n",
       "      <td>f</td>\n",
       "      <td>train</td>\n",
       "      <td>823.31</td>\n",
       "    </tr>\n",
       "    <tr>\n",
       "      <th>1</th>\n",
       "      <td>1</td>\n",
       "      <td>1</td>\n",
       "      <td>f</td>\n",
       "      <td>test</td>\n",
       "      <td>436.65</td>\n",
       "    </tr>\n",
       "    <tr>\n",
       "      <th>2</th>\n",
       "      <td>2</td>\n",
       "      <td>1</td>\n",
       "      <td>m</td>\n",
       "      <td>train</td>\n",
       "      <td>835.83</td>\n",
       "    </tr>\n",
       "    <tr>\n",
       "      <th>3</th>\n",
       "      <td>3</td>\n",
       "      <td>1</td>\n",
       "      <td>m</td>\n",
       "      <td>train</td>\n",
       "      <td>420.61</td>\n",
       "    </tr>\n",
       "    <tr>\n",
       "      <th>4</th>\n",
       "      <td>4</td>\n",
       "      <td>1</td>\n",
       "      <td>f</td>\n",
       "      <td>test</td>\n",
       "      <td>444.55</td>\n",
       "    </tr>\n",
       "  </tbody>\n",
       "</table>\n",
       "</div>"
      ],
      "text/plain": [
       "   video_id  label gender dataset  duration\n",
       "0         0      1      f   train    823.31\n",
       "1         1      1      f    test    436.65\n",
       "2         2      1      m   train    835.83\n",
       "3         3      1      m   train    420.61\n",
       "4         4      1      f    test    444.55"
      ]
     },
     "execution_count": 4,
     "metadata": {},
     "output_type": "execute_result"
    }
   ],
   "source": [
    "df_durations = pd.read_excel(durations_file)\n",
    "\n",
    "# do the merge on video_id and duration\n",
    "df_timev2 = pd.merge(df_annotv2, df_durations[[\"video_id\", \"duration\"]], on=\"video_id\", how=\"left\")\n",
    "df_timev2.head()"
   ]
  },
  {
   "cell_type": "code",
   "execution_count": 5,
   "id": "c89f8c5f-3b66-4d86-abfa-45812d07b68c",
   "metadata": {},
   "outputs": [
    {
     "data": {
      "text/html": [
       "<div>\n",
       "<style scoped>\n",
       "    .dataframe tbody tr th:only-of-type {\n",
       "        vertical-align: middle;\n",
       "    }\n",
       "\n",
       "    .dataframe tbody tr th {\n",
       "        vertical-align: top;\n",
       "    }\n",
       "\n",
       "    .dataframe thead th {\n",
       "        text-align: right;\n",
       "    }\n",
       "</style>\n",
       "<table border=\"1\" class=\"dataframe\">\n",
       "  <thead>\n",
       "    <tr style=\"text-align: right;\">\n",
       "      <th></th>\n",
       "      <th></th>\n",
       "      <th>dataset</th>\n",
       "      <th>duration</th>\n",
       "    </tr>\n",
       "    <tr>\n",
       "      <th>label</th>\n",
       "      <th>gender</th>\n",
       "      <th></th>\n",
       "      <th></th>\n",
       "    </tr>\n",
       "  </thead>\n",
       "  <tbody>\n",
       "    <tr>\n",
       "      <th rowspan=\"2\" valign=\"top\">0</th>\n",
       "      <th>f</th>\n",
       "      <td>240</td>\n",
       "      <td>592.758625</td>\n",
       "    </tr>\n",
       "    <tr>\n",
       "      <th>m</th>\n",
       "      <td>138</td>\n",
       "      <td>433.173841</td>\n",
       "    </tr>\n",
       "    <tr>\n",
       "      <th rowspan=\"2\" valign=\"top\">1</th>\n",
       "      <th>f</th>\n",
       "      <td>302</td>\n",
       "      <td>650.870629</td>\n",
       "    </tr>\n",
       "    <tr>\n",
       "      <th>m</th>\n",
       "      <td>147</td>\n",
       "      <td>569.487551</td>\n",
       "    </tr>\n",
       "  </tbody>\n",
       "</table>\n",
       "</div>"
      ],
      "text/plain": [
       "              dataset    duration\n",
       "label gender                     \n",
       "0     f           240  592.758625\n",
       "      m           138  433.173841\n",
       "1     f           302  650.870629\n",
       "      m           147  569.487551"
      ]
     },
     "execution_count": 5,
     "metadata": {},
     "output_type": "execute_result"
    }
   ],
   "source": [
    "df_timev2.groupby([\"label\", \"gender\"]).agg({\"dataset\": \"count\", \"duration\": \"mean\"})"
   ]
  },
  {
   "cell_type": "code",
   "execution_count": 6,
   "id": "fb7c709d-f7c6-4880-ac16-3083cfcc575f",
   "metadata": {},
   "outputs": [
    {
     "name": "stderr",
     "output_type": "stream",
     "text": [
      "The PostScript backend does not support transparency; partially transparent artists will be rendered opaque.\n"
     ]
    },
    {
     "data": {
      "image/png": "[encoded data removed]",
      "text/plain": [
       "<Figure size 800x400 with 2 Axes>"
      ]
     },
     "metadata": {},
     "output_type": "display_data"
    }
   ],
   "source": [
    "# plot both the cumulative distributions before and after filtering for both the labels\n",
    "# get the durations of the original dataset\n",
    "df_timev1 = pd.merge(df_annotv1, df_durations[[\"video_id\", \"duration\"]], on=\"video_id\", how=\"left\")\n",
    "\n",
    "title_size = 14\n",
    "sup_title_size = 10\n",
    "\n",
    "# build the plot\n",
    "fig = plt.figure(figsize=(8, 4))\n",
    "axs = fig.subplots(1, 2, sharex=True, sharey=True)\n",
    "\n",
    "# plot the difference between the depressive original and v2\n",
    "axs[0].set_title(\"Depression vlogs\", size=sup_title_size)\n",
    "axs[0].ecdf(df_timev1[df_timev1[\"label\"] == 1][\"duration\"], label=\"original\")\n",
    "axs[0].ecdf(df_timev2[df_timev2[\"label\"] == 1][\"duration\"], label=\"v2\")\n",
    "axs[0].legend(loc=4)\n",
    "\n",
    "# plot the difference between the non-depressive original and v2\n",
    "axs[1].set_title(\"Non-depression vlogs\", size=sup_title_size)\n",
    "axs[1].ecdf(df_timev1[df_timev1[\"label\"] == 0][\"duration\"], label=\"original\")\n",
    "axs[1].ecdf(df_timev2[df_timev2[\"label\"] == 0][\"duration\"], label=\"v2\")\n",
    "axs[1].legend(loc=4)\n",
    "\n",
    "#\n",
    "fig.supxlabel('Duration (in seconds) of vlogs', size=sup_title_size)\n",
    "fig.supylabel('Cummulative distribution of vlog durations', size=sup_title_size, x=.04)\n",
    "fig.suptitle(\"Distributions of vlog duration between the original and v2 datasets\", size=title_size, y=1.0)\n",
    "\n",
    "# save the figure and show it\n",
    "plt.savefig(\"../figures/vlog_duration_dist.eps\")\n",
    "plt.show()"
   ]
  },
  {
   "cell_type": "markdown",
   "id": "1eacfd7a-c2f5-42cf-924f-1587402e9767",
   "metadata": {},
   "source": [
    "## Descriptive statistics of the train, test and validation sets"
   ]
  },
  {
   "cell_type": "code",
   "execution_count": 7,
   "id": "f7d01fe9-877d-463e-afba-b442f6213fc3",
   "metadata": {
    "tags": []
   },
   "outputs": [
    {
     "data": {
      "text/html": [
       "<div>\n",
       "<style scoped>\n",
       "    .dataframe tbody tr th:only-of-type {\n",
       "        vertical-align: middle;\n",
       "    }\n",
       "\n",
       "    .dataframe tbody tr th {\n",
       "        vertical-align: top;\n",
       "    }\n",
       "\n",
       "    .dataframe thead th {\n",
       "        text-align: right;\n",
       "    }\n",
       "</style>\n",
       "<table border=\"1\" class=\"dataframe\">\n",
       "  <thead>\n",
       "    <tr style=\"text-align: right;\">\n",
       "      <th></th>\n",
       "      <th></th>\n",
       "      <th>video_id</th>\n",
       "      <th>label</th>\n",
       "    </tr>\n",
       "    <tr>\n",
       "      <th>dataset</th>\n",
       "      <th>gender</th>\n",
       "      <th></th>\n",
       "      <th></th>\n",
       "    </tr>\n",
       "  </thead>\n",
       "  <tbody>\n",
       "    <tr>\n",
       "      <th rowspan=\"2\" valign=\"top\">test</th>\n",
       "      <th>f</th>\n",
       "      <td>127</td>\n",
       "      <td>127</td>\n",
       "    </tr>\n",
       "    <tr>\n",
       "      <th>m</th>\n",
       "      <td>64</td>\n",
       "      <td>64</td>\n",
       "    </tr>\n",
       "    <tr>\n",
       "      <th rowspan=\"2\" valign=\"top\">train</th>\n",
       "      <th>f</th>\n",
       "      <td>447</td>\n",
       "      <td>447</td>\n",
       "    </tr>\n",
       "    <tr>\n",
       "      <th>m</th>\n",
       "      <td>225</td>\n",
       "      <td>225</td>\n",
       "    </tr>\n",
       "    <tr>\n",
       "      <th rowspan=\"2\" valign=\"top\">val</th>\n",
       "      <th>f</th>\n",
       "      <td>65</td>\n",
       "      <td>65</td>\n",
       "    </tr>\n",
       "    <tr>\n",
       "      <th>m</th>\n",
       "      <td>33</td>\n",
       "      <td>33</td>\n",
       "    </tr>\n",
       "  </tbody>\n",
       "</table>\n",
       "</div>"
      ],
      "text/plain": [
       "                video_id  label\n",
       "dataset gender                 \n",
       "test    f            127    127\n",
       "        m             64     64\n",
       "train   f            447    447\n",
       "        m            225    225\n",
       "val     f             65     65\n",
       "        m             33     33"
      ]
     },
     "execution_count": 7,
     "metadata": {},
     "output_type": "execute_result"
    }
   ],
   "source": [
    "df_annotv1.groupby([\"dataset\", \"gender\"]).count()"
   ]
  },
  {
   "cell_type": "code",
   "execution_count": 8,
   "id": "0eebd0ea-dac3-4319-bb30-fd0135a1f3ff",
   "metadata": {
    "tags": []
   },
   "outputs": [
    {
     "data": {
      "text/html": [
       "<div>\n",
       "<style scoped>\n",
       "    .dataframe tbody tr th:only-of-type {\n",
       "        vertical-align: middle;\n",
       "    }\n",
       "\n",
       "    .dataframe tbody tr th {\n",
       "        vertical-align: top;\n",
       "    }\n",
       "\n",
       "    .dataframe thead th {\n",
       "        text-align: right;\n",
       "    }\n",
       "</style>\n",
       "<table border=\"1\" class=\"dataframe\">\n",
       "  <thead>\n",
       "    <tr style=\"text-align: right;\">\n",
       "      <th></th>\n",
       "      <th></th>\n",
       "      <th>video_id</th>\n",
       "      <th>label</th>\n",
       "    </tr>\n",
       "    <tr>\n",
       "      <th>dataset</th>\n",
       "      <th>gender</th>\n",
       "      <th></th>\n",
       "      <th></th>\n",
       "    </tr>\n",
       "  </thead>\n",
       "  <tbody>\n",
       "    <tr>\n",
       "      <th rowspan=\"2\" valign=\"top\">test</th>\n",
       "      <th>f</th>\n",
       "      <td>108</td>\n",
       "      <td>108</td>\n",
       "    </tr>\n",
       "    <tr>\n",
       "      <th>m</th>\n",
       "      <td>57</td>\n",
       "      <td>57</td>\n",
       "    </tr>\n",
       "    <tr>\n",
       "      <th rowspan=\"2\" valign=\"top\">train</th>\n",
       "      <th>f</th>\n",
       "      <td>379</td>\n",
       "      <td>379</td>\n",
       "    </tr>\n",
       "    <tr>\n",
       "      <th>m</th>\n",
       "      <td>199</td>\n",
       "      <td>199</td>\n",
       "    </tr>\n",
       "    <tr>\n",
       "      <th rowspan=\"2\" valign=\"top\">val</th>\n",
       "      <th>f</th>\n",
       "      <td>55</td>\n",
       "      <td>55</td>\n",
       "    </tr>\n",
       "    <tr>\n",
       "      <th>m</th>\n",
       "      <td>29</td>\n",
       "      <td>29</td>\n",
       "    </tr>\n",
       "  </tbody>\n",
       "</table>\n",
       "</div>"
      ],
      "text/plain": [
       "                video_id  label\n",
       "dataset gender                 \n",
       "test    f            108    108\n",
       "        m             57     57\n",
       "train   f            379    379\n",
       "        m            199    199\n",
       "val     f             55     55\n",
       "        m             29     29"
      ]
     },
     "execution_count": 8,
     "metadata": {},
     "output_type": "execute_result"
    }
   ],
   "source": [
    "df_annotv2.groupby([\"dataset\", \"gender\"]).count()"
   ]
  },
  {
   "cell_type": "code",
   "execution_count": 10,
   "id": "fbd0c6d5-9a70-4827-b07a-60a90eac5916",
   "metadata": {},
   "outputs": [
    {
     "data": {
      "text/html": [
       "<div>\n",
       "<style scoped>\n",
       "    .dataframe tbody tr th:only-of-type {\n",
       "        vertical-align: middle;\n",
       "    }\n",
       "\n",
       "    .dataframe tbody tr th {\n",
       "        vertical-align: top;\n",
       "    }\n",
       "\n",
       "    .dataframe thead th {\n",
       "        text-align: right;\n",
       "    }\n",
       "</style>\n",
       "<table border=\"1\" class=\"dataframe\">\n",
       "  <thead>\n",
       "    <tr style=\"text-align: right;\">\n",
       "      <th></th>\n",
       "      <th></th>\n",
       "      <th>video_id</th>\n",
       "      <th>dataset</th>\n",
       "    </tr>\n",
       "    <tr>\n",
       "      <th>label</th>\n",
       "      <th>gender</th>\n",
       "      <th></th>\n",
       "      <th></th>\n",
       "    </tr>\n",
       "  </thead>\n",
       "  <tbody>\n",
       "    <tr>\n",
       "      <th rowspan=\"2\" valign=\"top\">0</th>\n",
       "      <th>f</th>\n",
       "      <td>168</td>\n",
       "      <td>168</td>\n",
       "    </tr>\n",
       "    <tr>\n",
       "      <th>m</th>\n",
       "      <td>96</td>\n",
       "      <td>96</td>\n",
       "    </tr>\n",
       "    <tr>\n",
       "      <th rowspan=\"2\" valign=\"top\">1</th>\n",
       "      <th>f</th>\n",
       "      <td>211</td>\n",
       "      <td>211</td>\n",
       "    </tr>\n",
       "    <tr>\n",
       "      <th>m</th>\n",
       "      <td>103</td>\n",
       "      <td>103</td>\n",
       "    </tr>\n",
       "  </tbody>\n",
       "</table>\n",
       "</div>"
      ],
      "text/plain": [
       "              video_id  dataset\n",
       "label gender                   \n",
       "0     f            168      168\n",
       "      m             96       96\n",
       "1     f            211      211\n",
       "      m            103      103"
      ]
     },
     "execution_count": 10,
     "metadata": {},
     "output_type": "execute_result"
    }
   ],
   "source": [
    "# get the distribution of the subgroups\n",
    "df_annotv2[df_annotv2[\"dataset\"] == \"train\"].groupby([\"label\", \"gender\"]).count()"
   ]
  },
  {
   "cell_type": "markdown",
   "id": "d7fec361-7a5b-4a12-834b-c63a7cbba6b3",
   "metadata": {},
   "source": [
    "## Retrieve information regarding the PDEM features"
   ]
  },
  {
   "cell_type": "code",
   "execution_count": null,
   "id": "50319b90-6031-4792-93d4-4c76f24e70d7",
   "metadata": {},
   "outputs": [],
   "source": [
    "pdem_info_dict = {}\n",
    "\n",
    "for index, row in df_annotations.iterrows():\n",
    "\n",
    "    video_id = str(row.video_id)\n",
    "    vad_file_path = os.path.join(pdem_features_path, video_id, \"pdemvad.npy\")\n",
    "    embeddings = np.load(vad_file_path).astype(np.float32)\n",
    "\n",
    "    # save the info\n",
    "    pdem_info_dict[video_id] = {\n",
    "        \"embedding\": embeddings,\n",
    "        \"seq_length\": embeddings.shape[0],\n",
    "        \"arousal\": 1,\n",
    "        \"dominance\": 1,\n",
    "        \"valence\": 1\n",
    "    }"
   ]
  },
  {
   "cell_type": "code",
   "execution_count": null,
   "id": "00bb1fbb-cf82-4c7f-98c7-61280171e0b7",
   "metadata": {},
   "outputs": [],
   "source": [
    "# put the information back into the dataframe\n",
    "df_annotations[\"pdem_seq_length\"] = df_annotations[\"video_id\"].apply(lambda x: pdem_info_dict.get(str(x)).get(\"seq_length\"))\n",
    "\n",
    "print(f\"mean length: {df_annotations['pdem_seq_length'].mean()}\\nmax length: {df_annotations['pdem_seq_length'].max()}\")\n",
    "\n",
    "df_annotations.head()"
   ]
  },
  {
   "cell_type": "code",
   "execution_count": null,
   "id": "a87cf2da-48a2-45cc-b2e0-04949102603f",
   "metadata": {},
   "outputs": [],
   "source": [
    "# Get the distribution for both the male and female extracted features\n",
    "plt.figure()\n",
    "\n",
    "# plot the data\n",
    "sns.displot(df_annotations, x=\"pdem_seq_length\", hue=\"gender\", kind=\"kde\")\n",
    "\n",
    "# plot the vertical mean line\n",
    "x_mean = df_annotations['pdem_seq_length'].mean()\n",
    "plt.axvline(x_mean, color='r', ls='--', label=f\"μ pdem\")\n",
    "\n",
    "plt.legend()\n",
    "plt.show()"
   ]
  },
  {
   "cell_type": "markdown",
   "id": "a138a233-d9f3-47f2-bde8-a045c08444a2",
   "metadata": {},
   "source": [
    "## Retrieve and plot information regarding the word and sentence embeddings"
   ]
  },
  {
   "cell_type": "code",
   "execution_count": null,
   "id": "4ca40d95-13e6-4dc7-ad85-1cbc8aae9f17",
   "metadata": {},
   "outputs": [],
   "source": [
    "embed_info_dict = {}\n",
    "\n",
    "for index, row in df_annotations.iterrows():\n",
    "\n",
    "    video_id = str(row.video_id)\n",
    "    embeddings_file_path = os.path.join(text_embeddings_path, video_id)\n",
    "    embed_info_dict[video_id] = {\n",
    "        \"w2v_seconds\": np.load(os.path.join(embeddings_file_path, \"w2v_seconds_normal_avg.npy\")).astype(np.float32).shape[0],\n",
    "        \"w2v_sentences\": np.load(os.path.join(embeddings_file_path, \"w2v_seq_avg.npy\")).astype(np.float32).shape[0],\n",
    "        \"w2v_keywords\": np.load(os.path.join(embeddings_file_path, \"w2v_seq_avg_keyw.npy\")).astype(np.float32).shape[0]\n",
    "    }"
   ]
  },
  {
   "cell_type": "code",
   "execution_count": null,
   "id": "b02a3bd5-80b2-466d-9a64-3c81167f1214",
   "metadata": {},
   "outputs": [],
   "source": [
    "# put the features back into the dataframe\n",
    "df_annotations[\"w2v_seconds\"] = df_annotations[\"video_id\"].apply(lambda x: embed_info_dict.get(str(x)).get(\"w2v_seconds\"))\n",
    "df_annotations[\"w2v_sentences\"] = df_annotations[\"video_id\"].apply(lambda x: embed_info_dict.get(str(x)).get(\"w2v_sentences\"))\n",
    "df_annotations[\"w2v_keywords\"] = df_annotations[\"video_id\"].apply(lambda x: embed_info_dict.get(str(x)).get(\"w2v_keywords\"))\n",
    "\n",
    "df_annotations.head()"
   ]
  },
  {
   "cell_type": "code",
   "execution_count": null,
   "id": "45b7c22a-f8f3-40d2-859a-b1fea04736fc",
   "metadata": {},
   "outputs": [],
   "source": [
    "# Get the distribution for both the male and female extracted features\n",
    "mean_length = round(df_annotations['w2v_seconds'].mean(), 2)\n",
    "print(f\"mean length: {mean_length}\")\n",
    "\n",
    "plt.figure()\n",
    "\n",
    "# plot the data\n",
    "sns.displot(df_annotations, x=\"w2v_seconds\", hue=\"gender\", kind=\"kde\")\n",
    "\n",
    "# plot the vertical mean line\n",
    "x_mean = df_annotations['w2v_seconds'].mean()\n",
    "plt.axvline(x_mean, color='r', ls='--', label=f\"μ vlogs={mean_length}\")\n",
    "\n",
    "plt.legend()\n",
    "plt.show()"
   ]
  },
  {
   "cell_type": "code",
   "execution_count": null,
   "id": "ab55450a-84a6-4bc7-b50e-5059b2e1f540",
   "metadata": {},
   "outputs": [],
   "source": [
    "# get the length of the sentences with the mean per label and overall\n",
    "mean_length = round(df_annotations['w2v_sentences'].mean(), 2)\n",
    "gender_length = df_annotations.groupby([\"gender\"]).agg(avg_duration=(\"w2v_sentences\", \"mean\"))\n",
    "f_length, m_length = round(gender_length.loc[\"f\"][\"avg_duration\"], 2), round(gender_length.loc[\"m\"][\"avg_duration\"], 2)\n",
    "print(gender_length)\n",
    "# plot the figure\n",
    "plt.figure()\n",
    "\n",
    "# plot the data\n",
    "sns.displot(df_annotations, x=\"w2v_sentences\", hue=\"gender\", kind=\"kde\")\n",
    "\n",
    "# plot the vertical mean line\n",
    "plt.axvline(mean_length, color='r', ls='--', label=f\"μ vlogs={mean_length}\")\n",
    "plt.axvline(m_length, color='k', ls='-', label=f\"μ male vlogs={m_length}\")\n",
    "plt.axvline(f_length, color='m', ls='-', label=f\"μ female vlogs={f_length}\")\n",
    "\n",
    "plt.legend()\n",
    "plt.show()"
   ]
  },
  {
   "cell_type": "code",
   "execution_count": null,
   "id": "7d6ae8ba-8749-492c-a645-30655bce31fd",
   "metadata": {},
   "outputs": [],
   "source": [
    "# get the length of the sentences with the mean per label and overall\n",
    "norm_length, keyw_length = round(df_annotations['w2v_sentences'].mean(), 2), round(df_annotations['w2v_keywords'].mean(), 2)\n",
    "\n",
    "# plot the data\n",
    "plt.figure()\n",
    "\n",
    "sns.displot([df_annotations[\"w2v_sentences\"], df_annotations[\"w2v_keywords\"]], kind=\"kde\")\n",
    "# sns.displot(df_annotations, x=\"w2v_keywords\", kind=\"kde\")\n",
    "\n",
    "# plot the vertical mean line\n",
    "plt.axvline(norm_length, color='r', ls='--', label=f\"μ before={norm_length}\")\n",
    "plt.axvline(keyw_length, color='k', ls='-', label=f\"μ after={keyw_length}\")\n",
    "\n",
    "plt.legend()\n",
    "plt.show()"
   ]
  }
 ],
 "metadata": {
  "kernelspec": {
   "display_name": "Python 3 (ipykernel)",
   "language": "python",
   "name": "python3"
  },
  "language_info": {
   "codemirror_mode": {
    "name": "ipython",
    "version": 3
   },
   "file_extension": ".py",
   "mimetype": "text/x-python",
   "name": "python",
   "nbconvert_exporter": "python",
   "pygments_lexer": "ipython3",
   "version": "3.11.7"
  }
 },
 "nbformat": 4,
 "nbformat_minor": 5
}
